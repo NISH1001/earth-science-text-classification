{
 "cells": [
  {
   "cell_type": "code",
   "execution_count": 1,
   "id": "68e6c6c8",
   "metadata": {},
   "outputs": [],
   "source": [
    "%reload_ext autoreload\n",
    "%autoreload 2"
   ]
  },
  {
   "cell_type": "code",
   "execution_count": 2,
   "id": "7d247d53",
   "metadata": {},
   "outputs": [],
   "source": [
    "import numpy as np\n",
    "import pandas as pd\n",
    "import matplotlib.pyplot as plt\n",
    "import seaborn as sns\n",
    "\n",
    "%matplotlib inline"
   ]
  },
  {
   "cell_type": "code",
   "execution_count": 4,
   "id": "a1013895",
   "metadata": {},
   "outputs": [],
   "source": [
    "from loguru import logger"
   ]
  },
  {
   "cell_type": "code",
   "execution_count": 5,
   "id": "b9adb707",
   "metadata": {},
   "outputs": [],
   "source": [
    "datapath = \"data/data.csv\""
   ]
  },
  {
   "cell_type": "markdown",
   "id": "420292d4",
   "metadata": {},
   "source": [
    "# Load Data\n",
    "\n",
    "\n",
    "> **Note**: It seems pandas couldn't read a large chunk of data. It's only able to load 6K data points.\n",
    "I am sure I could have solved this, but the solution is just a crude way to approach the given problem for tagging a description. So, I let it be. (Plus, it was race against time)\n",
    "\n",
    "### Important\n",
    "\n",
    "If we're going to train a BERT-based Language Model, we will only use a subset of the data where\n",
    "the length of the description < 512 (since BERT can only process 512 input tokens at a time).\n",
    "\n",
    "> **NOTE**:\n",
    "- This can be solved by treating classification of single data point as chunks where we could break the long text.\n",
    "- Or, we can use other robust models like [Longformer](https://github.com/allenai/longformer) that can process \n",
    "at max 4096 input characters. "
   ]
  },
  {
   "cell_type": "code",
   "execution_count": 24,
   "id": "bcc54ff0",
   "metadata": {},
   "outputs": [],
   "source": [
    "def parse_kws(kw_str, level=2):\n",
    "    res = kw_str.split(\",\")\n",
    "    res = map(lambda kw: [_.strip().lower() for _ in kw.split(\">\")], res)\n",
    "    res = map(lambda x: x[level if level<len(x) else len(x)-1], res)\n",
    "    return list(set(res))\n",
    "\n",
    "def load_data(path, level=0):\n",
    "    logger.info(f\"Loading data from {path}. [KW Level={level}]\")\n",
    "    df = pd.read_csv(path)\n",
    "    df[\"desc\"] = df[\"desc\"].apply(str.strip)\n",
    "    df[\"labels\"] = df[\"keywords\"].apply(lambda x: parse_kws(x, level))\n",
    "    df[\"textlen\"] = df[\"desc\"].apply(len)\n",
    "    return df"
   ]
  },
  {
   "cell_type": "code",
   "execution_count": 25,
   "id": "a2663d1c",
   "metadata": {},
   "outputs": [
    {
     "name": "stderr",
     "output_type": "stream",
     "text": [
      "2021-07-28 19:09:25.591 | INFO     | __main__:load_data:8 - Loading data from data/data.csv. [KW Level=1]\n"
     ]
    }
   ],
   "source": [
    "DATA = load_data(datapath, level=1)"
   ]
  },
  {
   "cell_type": "code",
   "execution_count": 37,
   "id": "98fac9df",
   "metadata": {},
   "outputs": [
    {
     "data": {
      "text/plain": [
       "(5999, 4)"
      ]
     },
     "execution_count": 37,
     "metadata": {},
     "output_type": "execute_result"
    }
   ],
   "source": [
    "# Like I said, we're only able to load 6K data points which can be fixed in future!\n",
    "DATA.shape"
   ]
  },
  {
   "cell_type": "code",
   "execution_count": 38,
   "id": "a31cfbd9",
   "metadata": {},
   "outputs": [
    {
     "data": {
      "text/html": [
       "<div>\n",
       "<style scoped>\n",
       "    .dataframe tbody tr th:only-of-type {\n",
       "        vertical-align: middle;\n",
       "    }\n",
       "\n",
       "    .dataframe tbody tr th {\n",
       "        vertical-align: top;\n",
       "    }\n",
       "\n",
       "    .dataframe thead th {\n",
       "        text-align: right;\n",
       "    }\n",
       "</style>\n",
       "<table border=\"1\" class=\"dataframe\">\n",
       "  <thead>\n",
       "    <tr style=\"text-align: right;\">\n",
       "      <th></th>\n",
       "      <th>desc</th>\n",
       "      <th>keywords</th>\n",
       "      <th>labels</th>\n",
       "      <th>textlen</th>\n",
       "    </tr>\n",
       "  </thead>\n",
       "  <tbody>\n",
       "    <tr>\n",
       "      <th>0</th>\n",
       "      <td>USGS 15 minute stream flow data for Kings Cree...</td>\n",
       "      <td>EARTH SCIENCE &gt; TERRESTRIAL HYDROSPHERE &gt; SURF...</td>\n",
       "      <td>[terrestrial hydrosphere]</td>\n",
       "      <td>68</td>\n",
       "    </tr>\n",
       "    <tr>\n",
       "      <th>1</th>\n",
       "      <td>This data set contains the VSMOW-SLAP d17O, d1...</td>\n",
       "      <td>EARTH SCIENCE &gt; Solid Earth &gt; Rocks/Minerals &gt;...</td>\n",
       "      <td>[cryosphere, solid earth]</td>\n",
       "      <td>425</td>\n",
       "    </tr>\n",
       "    <tr>\n",
       "      <th>2</th>\n",
       "      <td>Digital line graph (DLG) data are digital repr...</td>\n",
       "      <td>EARTH SCIENCE &gt; HUMAN DIMENSIONS &gt; BOUNDARIES ...</td>\n",
       "      <td>[terrestrial hydrosphere, human dimensions]</td>\n",
       "      <td>751</td>\n",
       "    </tr>\n",
       "    <tr>\n",
       "      <th>3</th>\n",
       "      <td>The 2000 Pilot Environmental Sustainability In...</td>\n",
       "      <td>EARTH SCIENCE &gt; ATMOSPHERE &gt; AIR QUALITY &gt; EMI...</td>\n",
       "      <td>[terrestrial hydrosphere, biosphere, human dim...</td>\n",
       "      <td>956</td>\n",
       "    </tr>\n",
       "    <tr>\n",
       "      <th>4</th>\n",
       "      <td>The 2001 Environmental Sustainability Index (E...</td>\n",
       "      <td>EARTH SCIENCE &gt; ATMOSPHERE &gt; AIR QUALITY &gt; EMI...</td>\n",
       "      <td>[terrestrial hydrosphere, biosphere, human dim...</td>\n",
       "      <td>989</td>\n",
       "    </tr>\n",
       "  </tbody>\n",
       "</table>\n",
       "</div>"
      ],
      "text/plain": [
       "                                                desc  \\\n",
       "0  USGS 15 minute stream flow data for Kings Cree...   \n",
       "1  This data set contains the VSMOW-SLAP d17O, d1...   \n",
       "2  Digital line graph (DLG) data are digital repr...   \n",
       "3  The 2000 Pilot Environmental Sustainability In...   \n",
       "4  The 2001 Environmental Sustainability Index (E...   \n",
       "\n",
       "                                            keywords  \\\n",
       "0  EARTH SCIENCE > TERRESTRIAL HYDROSPHERE > SURF...   \n",
       "1  EARTH SCIENCE > Solid Earth > Rocks/Minerals >...   \n",
       "2  EARTH SCIENCE > HUMAN DIMENSIONS > BOUNDARIES ...   \n",
       "3  EARTH SCIENCE > ATMOSPHERE > AIR QUALITY > EMI...   \n",
       "4  EARTH SCIENCE > ATMOSPHERE > AIR QUALITY > EMI...   \n",
       "\n",
       "                                              labels  textlen  \n",
       "0                          [terrestrial hydrosphere]       68  \n",
       "1                          [cryosphere, solid earth]      425  \n",
       "2        [terrestrial hydrosphere, human dimensions]      751  \n",
       "3  [terrestrial hydrosphere, biosphere, human dim...      956  \n",
       "4  [terrestrial hydrosphere, biosphere, human dim...      989  "
      ]
     },
     "execution_count": 38,
     "metadata": {},
     "output_type": "execute_result"
    }
   ],
   "source": [
    "DATA.head()"
   ]
  },
  {
   "cell_type": "markdown",
   "id": "45125c9f",
   "metadata": {},
   "source": [
    "# Analysis"
   ]
  },
  {
   "cell_type": "code",
   "execution_count": 39,
   "id": "5902c12a",
   "metadata": {},
   "outputs": [],
   "source": [
    "from collections import Counter, defaultdict"
   ]
  },
  {
   "cell_type": "code",
   "execution_count": 40,
   "id": "a29b6a54",
   "metadata": {},
   "outputs": [],
   "source": [
    "from loguru import logger"
   ]
  },
  {
   "cell_type": "code",
   "execution_count": 41,
   "id": "883aa66a",
   "metadata": {},
   "outputs": [],
   "source": [
    "def analyze_labels(df):\n",
    "    df = df.copy()\n",
    "    labels = [l for ls in df[\"labels\"] for l in ls]\n",
    "    uniques = set(labels)\n",
    "    logger.info(f\"{len(uniques)} unique labels\")"
   ]
  },
  {
   "cell_type": "code",
   "execution_count": 42,
   "id": "e09aded0",
   "metadata": {},
   "outputs": [
    {
     "name": "stderr",
     "output_type": "stream",
     "text": [
      "2021-07-28 19:11:28.237 | INFO     | __main__:analyze_labels:5 - 29 unique labels\n"
     ]
    }
   ],
   "source": [
    "analyze_labels(DATA)"
   ]
  },
  {
   "cell_type": "markdown",
   "id": "b86ab842",
   "metadata": {},
   "source": [
    "### Text Length Analysis"
   ]
  },
  {
   "cell_type": "code",
   "execution_count": 43,
   "id": "6ca8af29",
   "metadata": {},
   "outputs": [
    {
     "name": "stderr",
     "output_type": "stream",
     "text": [
      "2021-07-28 19:11:28.934 | DEBUG    | __main__:<module>:3 - (5999, 4)\n"
     ]
    },
    {
     "data": {
      "text/plain": [
       "(0.3295549258209702, 0.6309384897482914)"
      ]
     },
     "execution_count": 43,
     "metadata": {},
     "output_type": "execute_result"
    }
   ],
   "source": [
    "_data = DATA.copy()\n",
    "_data = _data[_data[\"textlen\"]>0]\n",
    "logger.debug(_data.shape)\n",
    "\n",
    "# BERT can only process 512 sequence length at once\n",
    "# So, what % of text satisfy that pre-condition?\n",
    "len(_data[_data[\"textlen\"] <= 512]) / len(_data), len(_data[_data[\"textlen\"] <= 1024]) / len(_data)"
   ]
  },
  {
   "cell_type": "code",
   "execution_count": 44,
   "id": "1bc11242",
   "metadata": {},
   "outputs": [
    {
     "data": {
      "text/plain": [
       "[(0.0, 3000.0)]"
      ]
     },
     "execution_count": 44,
     "metadata": {},
     "output_type": "execute_result"
    },
    {
     "data": {
      "image/png": "[encoded data removed]",
      "text/plain": [
       "<Figure size 1440x1080 with 1 Axes>"
      ]
     },
     "metadata": {
      "needs_background": "light"
     },
     "output_type": "display_data"
    }
   ],
   "source": [
    "plt.figure(figsize=(20, 15))\n",
    "sns.histplot(data=_data, x=\"textlen\", bins=100).set(xlim=(0, 3000))"
   ]
  },
  {
   "cell_type": "markdown",
   "id": "c30f7081",
   "metadata": {},
   "source": [
    "## MultiLabelEncoder Analysis\n",
    "\n",
    "Since, the problem is a multi-label clasification (if we treat the problem as a classification problem), we need to see if we can encode the labels accordingly!"
   ]
  },
  {
   "cell_type": "code",
   "execution_count": 45,
   "id": "291f80f0",
   "metadata": {},
   "outputs": [],
   "source": [
    "from sklearn.preprocessing import MultiLabelBinarizer"
   ]
  },
  {
   "cell_type": "code",
   "execution_count": 46,
   "id": "8f50c4e8",
   "metadata": {},
   "outputs": [
    {
     "data": {
      "text/plain": [
       "(1930, 4)"
      ]
     },
     "execution_count": 46,
     "metadata": {},
     "output_type": "execute_result"
    }
   ],
   "source": [
    "DATA_TO_USE = DATA.copy()\n",
    "DATA_TO_USE = DATA_TO_USE[DATA_TO_USE[\"textlen\"]<=500]\n",
    "DATA_TO_USE.shape"
   ]
  },
  {
   "cell_type": "code",
   "execution_count": 47,
   "id": "8e6bafd5",
   "metadata": {},
   "outputs": [
    {
     "data": {
      "text/html": [
       "<div>\n",
       "<style scoped>\n",
       "    .dataframe tbody tr th:only-of-type {\n",
       "        vertical-align: middle;\n",
       "    }\n",
       "\n",
       "    .dataframe tbody tr th {\n",
       "        vertical-align: top;\n",
       "    }\n",
       "\n",
       "    .dataframe thead th {\n",
       "        text-align: right;\n",
       "    }\n",
       "</style>\n",
       "<table border=\"1\" class=\"dataframe\">\n",
       "  <thead>\n",
       "    <tr style=\"text-align: right;\">\n",
       "      <th></th>\n",
       "      <th>desc</th>\n",
       "      <th>keywords</th>\n",
       "      <th>labels</th>\n",
       "      <th>textlen</th>\n",
       "    </tr>\n",
       "  </thead>\n",
       "  <tbody>\n",
       "    <tr>\n",
       "      <th>0</th>\n",
       "      <td>USGS 15 minute stream flow data for Kings Cree...</td>\n",
       "      <td>EARTH SCIENCE &gt; TERRESTRIAL HYDROSPHERE &gt; SURF...</td>\n",
       "      <td>[terrestrial hydrosphere]</td>\n",
       "      <td>68</td>\n",
       "    </tr>\n",
       "    <tr>\n",
       "      <th>1</th>\n",
       "      <td>This data set contains the VSMOW-SLAP d17O, d1...</td>\n",
       "      <td>EARTH SCIENCE &gt; Solid Earth &gt; Rocks/Minerals &gt;...</td>\n",
       "      <td>[cryosphere, solid earth]</td>\n",
       "      <td>425</td>\n",
       "    </tr>\n",
       "    <tr>\n",
       "      <th>12</th>\n",
       "      <td>30 minute rainfall data for the Konza Prairie</td>\n",
       "      <td>EARTH SCIENCE &gt; ATMOSPHERE &gt; PRECIPITATION &gt; P...</td>\n",
       "      <td>[atmosphere]</td>\n",
       "      <td>45</td>\n",
       "    </tr>\n",
       "    <tr>\n",
       "      <th>21</th>\n",
       "      <td>This data set provides glacier surface ablatio...</td>\n",
       "      <td>EARTH SCIENCE &gt; Cryosphere &gt; Glaciers/Ice Shee...</td>\n",
       "      <td>[cryosphere, terrestrial hydrosphere]</td>\n",
       "      <td>367</td>\n",
       "    </tr>\n",
       "    <tr>\n",
       "      <th>22</th>\n",
       "      <td>This data set provides a fire progression map ...</td>\n",
       "      <td>EARTH SCIENCE &gt; BIOSPHERE &gt; ECOLOGICAL DYNAMIC...</td>\n",
       "      <td>[land surface, biosphere]</td>\n",
       "      <td>415</td>\n",
       "    </tr>\n",
       "  </tbody>\n",
       "</table>\n",
       "</div>"
      ],
      "text/plain": [
       "                                                 desc  \\\n",
       "0   USGS 15 minute stream flow data for Kings Cree...   \n",
       "1   This data set contains the VSMOW-SLAP d17O, d1...   \n",
       "12      30 minute rainfall data for the Konza Prairie   \n",
       "21  This data set provides glacier surface ablatio...   \n",
       "22  This data set provides a fire progression map ...   \n",
       "\n",
       "                                             keywords  \\\n",
       "0   EARTH SCIENCE > TERRESTRIAL HYDROSPHERE > SURF...   \n",
       "1   EARTH SCIENCE > Solid Earth > Rocks/Minerals >...   \n",
       "12  EARTH SCIENCE > ATMOSPHERE > PRECIPITATION > P...   \n",
       "21  EARTH SCIENCE > Cryosphere > Glaciers/Ice Shee...   \n",
       "22  EARTH SCIENCE > BIOSPHERE > ECOLOGICAL DYNAMIC...   \n",
       "\n",
       "                                   labels  textlen  \n",
       "0               [terrestrial hydrosphere]       68  \n",
       "1               [cryosphere, solid earth]      425  \n",
       "12                           [atmosphere]       45  \n",
       "21  [cryosphere, terrestrial hydrosphere]      367  \n",
       "22              [land surface, biosphere]      415  "
      ]
     },
     "execution_count": 47,
     "metadata": {},
     "output_type": "execute_result"
    }
   ],
   "source": [
    "DATA_TO_USE.head()"
   ]
  },
  {
   "cell_type": "code",
   "execution_count": 49,
   "id": "82aade01",
   "metadata": {},
   "outputs": [
    {
     "name": "stderr",
     "output_type": "stream",
     "text": [
      "2021-07-28 19:13:36.353 | INFO     | __main__:analyze_labels:5 - 22 unique labels\n"
     ]
    }
   ],
   "source": [
    "# Note: Now our level 1 keywords are <29 (N=22) classes because we have filtered the data \n",
    "analyze_labels(DATA_TO_USE)"
   ]
  },
  {
   "cell_type": "code",
   "execution_count": 50,
   "id": "3f38d9ec",
   "metadata": {},
   "outputs": [],
   "source": [
    "LE = MultiLabelBinarizer()\n",
    "LABELS_ENCODED = LE.fit_transform(DATA_TO_USE[\"labels\"])"
   ]
  },
  {
   "cell_type": "code",
   "execution_count": 59,
   "id": "ece70f0c",
   "metadata": {},
   "outputs": [
    {
     "data": {
      "text/plain": [
       "(1930, 22)"
      ]
     },
     "execution_count": 59,
     "metadata": {},
     "output_type": "execute_result"
    }
   ],
   "source": [
    "# 22 classes for level=1 keywords\n",
    "LABELS_ENCODED.shape"
   ]
  },
  {
   "cell_type": "code",
   "execution_count": 60,
   "id": "fa9e868c",
   "metadata": {},
   "outputs": [
    {
     "data": {
      "text/plain": [
       "array([[0, 0, 0, 0, 0, 0, 0, 0, 0, 0, 0, 0, 0, 0, 0, 0, 0, 0, 0, 0, 0, 1],\n",
       "       [0, 0, 0, 0, 0, 0, 1, 0, 0, 0, 0, 0, 0, 0, 0, 0, 0, 1, 0, 0, 0, 0],\n",
       "       [0, 0, 1, 0, 0, 0, 0, 0, 0, 0, 0, 0, 0, 0, 0, 0, 0, 0, 0, 0, 0, 0],\n",
       "       [0, 0, 0, 0, 0, 0, 1, 0, 0, 0, 0, 0, 0, 0, 0, 0, 0, 0, 0, 0, 0, 1],\n",
       "       [0, 0, 0, 0, 1, 0, 0, 0, 0, 0, 0, 1, 0, 0, 0, 0, 0, 0, 0, 0, 0, 0],\n",
       "       [0, 0, 0, 0, 1, 0, 0, 0, 0, 1, 0, 0, 0, 0, 0, 0, 0, 0, 0, 0, 0, 0],\n",
       "       [0, 0, 1, 0, 1, 0, 0, 0, 0, 1, 0, 1, 0, 0, 0, 0, 0, 0, 0, 0, 0, 0],\n",
       "       [0, 0, 1, 0, 0, 0, 0, 0, 0, 0, 0, 0, 0, 0, 0, 0, 0, 0, 0, 0, 1, 0],\n",
       "       [0, 0, 1, 0, 0, 0, 0, 0, 0, 0, 0, 0, 0, 0, 0, 0, 0, 0, 0, 0, 1, 0],\n",
       "       [0, 0, 0, 0, 0, 0, 1, 0, 0, 0, 0, 1, 0, 0, 0, 0, 0, 0, 0, 0, 0, 0]])"
      ]
     },
     "execution_count": 60,
     "metadata": {},
     "output_type": "execute_result"
    }
   ],
   "source": [
    "LABELS_ENCODED[:10]"
   ]
  },
  {
   "cell_type": "code",
   "execution_count": 61,
   "id": "fba2c78e",
   "metadata": {},
   "outputs": [
    {
     "data": {
      "text/plain": [
       "array(['active remote sensing', 'agriculture', 'atmosphere',\n",
       "       'biological classification', 'biosphere', 'climate indicators',\n",
       "       'cryosphere', 'data analysis and visualization',\n",
       "       'environmental advisories', 'human dimensions', 'hydrosphere',\n",
       "       'land surface', 'nasa decadal survey', 'none', 'not provided',\n",
       "       'oceans', 'paleoclimate', 'solid earth', 'spectral engineering',\n",
       "       'spectral/engineering', 'sun-earth interactions',\n",
       "       'terrestrial hydrosphere'], dtype=object)"
      ]
     },
     "execution_count": 61,
     "metadata": {},
     "output_type": "execute_result"
    }
   ],
   "source": [
    "LE.classes_"
   ]
  },
  {
   "cell_type": "code",
   "execution_count": 62,
   "id": "f2cda140",
   "metadata": {},
   "outputs": [
    {
     "data": {
      "text/plain": [
       "[('terrestrial hydrosphere',),\n",
       " ('cryosphere', 'solid earth'),\n",
       " ('atmosphere',),\n",
       " ('cryosphere', 'terrestrial hydrosphere'),\n",
       " ('biosphere', 'land surface'),\n",
       " ('biosphere', 'human dimensions'),\n",
       " ('atmosphere', 'biosphere', 'human dimensions', 'land surface'),\n",
       " ('atmosphere', 'sun-earth interactions'),\n",
       " ('atmosphere', 'sun-earth interactions'),\n",
       " ('cryosphere', 'land surface')]"
      ]
     },
     "execution_count": 62,
     "metadata": {},
     "output_type": "execute_result"
    }
   ],
   "source": [
    "# Test if inverse works\n",
    "# Note: encoded lables should be 1s and 0s\n",
    "LE.inverse_transform(LABELS_ENCODED[:10])"
   ]
  },
  {
   "cell_type": "code",
   "execution_count": 64,
   "id": "f05a2cdf",
   "metadata": {},
   "outputs": [],
   "source": [
    "DATA_TO_USE[\"labels_encoded\"] = list(LABELS_ENCODED)"
   ]
  },
  {
   "cell_type": "code",
   "execution_count": 66,
   "id": "97986781",
   "metadata": {},
   "outputs": [
    {
     "data": {
      "text/html": [
       "<div>\n",
       "<style scoped>\n",
       "    .dataframe tbody tr th:only-of-type {\n",
       "        vertical-align: middle;\n",
       "    }\n",
       "\n",
       "    .dataframe tbody tr th {\n",
       "        vertical-align: top;\n",
       "    }\n",
       "\n",
       "    .dataframe thead th {\n",
       "        text-align: right;\n",
       "    }\n",
       "</style>\n",
       "<table border=\"1\" class=\"dataframe\">\n",
       "  <thead>\n",
       "    <tr style=\"text-align: right;\">\n",
       "      <th></th>\n",
       "      <th>desc</th>\n",
       "      <th>keywords</th>\n",
       "      <th>labels</th>\n",
       "      <th>textlen</th>\n",
       "      <th>labels_encoded</th>\n",
       "    </tr>\n",
       "  </thead>\n",
       "  <tbody>\n",
       "    <tr>\n",
       "      <th>0</th>\n",
       "      <td>USGS 15 minute stream flow data for Kings Cree...</td>\n",
       "      <td>EARTH SCIENCE &gt; TERRESTRIAL HYDROSPHERE &gt; SURF...</td>\n",
       "      <td>[terrestrial hydrosphere]</td>\n",
       "      <td>68</td>\n",
       "      <td>[0, 0, 0, 0, 0, 0, 0, 0, 0, 0, 0, 0, 0, 0, 0, ...</td>\n",
       "    </tr>\n",
       "    <tr>\n",
       "      <th>1</th>\n",
       "      <td>This data set contains the VSMOW-SLAP d17O, d1...</td>\n",
       "      <td>EARTH SCIENCE &gt; Solid Earth &gt; Rocks/Minerals &gt;...</td>\n",
       "      <td>[cryosphere, solid earth]</td>\n",
       "      <td>425</td>\n",
       "      <td>[0, 0, 0, 0, 0, 0, 1, 0, 0, 0, 0, 0, 0, 0, 0, ...</td>\n",
       "    </tr>\n",
       "    <tr>\n",
       "      <th>12</th>\n",
       "      <td>30 minute rainfall data for the Konza Prairie</td>\n",
       "      <td>EARTH SCIENCE &gt; ATMOSPHERE &gt; PRECIPITATION &gt; P...</td>\n",
       "      <td>[atmosphere]</td>\n",
       "      <td>45</td>\n",
       "      <td>[0, 0, 1, 0, 0, 0, 0, 0, 0, 0, 0, 0, 0, 0, 0, ...</td>\n",
       "    </tr>\n",
       "    <tr>\n",
       "      <th>21</th>\n",
       "      <td>This data set provides glacier surface ablatio...</td>\n",
       "      <td>EARTH SCIENCE &gt; Cryosphere &gt; Glaciers/Ice Shee...</td>\n",
       "      <td>[cryosphere, terrestrial hydrosphere]</td>\n",
       "      <td>367</td>\n",
       "      <td>[0, 0, 0, 0, 0, 0, 1, 0, 0, 0, 0, 0, 0, 0, 0, ...</td>\n",
       "    </tr>\n",
       "    <tr>\n",
       "      <th>22</th>\n",
       "      <td>This data set provides a fire progression map ...</td>\n",
       "      <td>EARTH SCIENCE &gt; BIOSPHERE &gt; ECOLOGICAL DYNAMIC...</td>\n",
       "      <td>[land surface, biosphere]</td>\n",
       "      <td>415</td>\n",
       "      <td>[0, 0, 0, 0, 1, 0, 0, 0, 0, 0, 0, 1, 0, 0, 0, ...</td>\n",
       "    </tr>\n",
       "  </tbody>\n",
       "</table>\n",
       "</div>"
      ],
      "text/plain": [
       "                                                 desc  \\\n",
       "0   USGS 15 minute stream flow data for Kings Cree...   \n",
       "1   This data set contains the VSMOW-SLAP d17O, d1...   \n",
       "12      30 minute rainfall data for the Konza Prairie   \n",
       "21  This data set provides glacier surface ablatio...   \n",
       "22  This data set provides a fire progression map ...   \n",
       "\n",
       "                                             keywords  \\\n",
       "0   EARTH SCIENCE > TERRESTRIAL HYDROSPHERE > SURF...   \n",
       "1   EARTH SCIENCE > Solid Earth > Rocks/Minerals >...   \n",
       "12  EARTH SCIENCE > ATMOSPHERE > PRECIPITATION > P...   \n",
       "21  EARTH SCIENCE > Cryosphere > Glaciers/Ice Shee...   \n",
       "22  EARTH SCIENCE > BIOSPHERE > ECOLOGICAL DYNAMIC...   \n",
       "\n",
       "                                   labels  textlen  \\\n",
       "0               [terrestrial hydrosphere]       68   \n",
       "1               [cryosphere, solid earth]      425   \n",
       "12                           [atmosphere]       45   \n",
       "21  [cryosphere, terrestrial hydrosphere]      367   \n",
       "22              [land surface, biosphere]      415   \n",
       "\n",
       "                                       labels_encoded  \n",
       "0   [0, 0, 0, 0, 0, 0, 0, 0, 0, 0, 0, 0, 0, 0, 0, ...  \n",
       "1   [0, 0, 0, 0, 0, 0, 1, 0, 0, 0, 0, 0, 0, 0, 0, ...  \n",
       "12  [0, 0, 1, 0, 0, 0, 0, 0, 0, 0, 0, 0, 0, 0, 0, ...  \n",
       "21  [0, 0, 0, 0, 0, 0, 1, 0, 0, 0, 0, 0, 0, 0, 0, ...  \n",
       "22  [0, 0, 0, 0, 1, 0, 0, 0, 0, 0, 0, 1, 0, 0, 0, ...  "
      ]
     },
     "execution_count": 66,
     "metadata": {},
     "output_type": "execute_result"
    }
   ],
   "source": [
    "DATA_TO_USE.head()"
   ]
  },
  {
   "cell_type": "code",
   "execution_count": null,
   "id": "a63c9bcb",
   "metadata": {},
   "outputs": [],
   "source": []
  }
 ],
 "metadata": {
  "kernelspec": {
   "display_name": "Python 3 (ipykernel)",
   "language": "python",
   "name": "python3"
  },
  "language_info": {
   "codemirror_mode": {
    "name": "ipython",
    "version": 3
   },
   "file_extension": ".py",
   "mimetype": "text/x-python",
   "name": "python",
   "nbconvert_exporter": "python",
   "pygments_lexer": "ipython3",
   "version": "3.8.10"
  }
 },
 "nbformat": 4,
 "nbformat_minor": 5
}
