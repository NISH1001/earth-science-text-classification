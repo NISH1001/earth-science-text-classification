{
  "nbformat": 4,
  "nbformat_minor": 0,
  "metadata": {
    "colab": {
      "name": "hierarchical-classification",
      "provenance": [],
      "collapsed_sections": []
    },
    "kernelspec": {
      "name": "python3",
      "display_name": "Python 3"
    },
    "language_info": {
      "name": "python"
    },
    "accelerator": "GPU"
  },
  "cells": [
    {
      "cell_type": "markdown",
      "metadata": {
        "id": "kqmBU4saH5oa"
      },
      "source": [
        "# Introduction\n",
        "\n",
        "In this notebook, I directly try to do a hierarchical classification based on the pytorch-based library:\n",
        "https://github.com/Tencent/NeuralNLP-NeuralClassifier\n",
        "\n",
        "Paper:\n",
        "https://aclanthology.org/P19-3015/\n",
        "\n",
        "## Observation\n",
        "\n",
        "- We are able to generate the label taxonomy compatible for the framework\n",
        "- We are also able to generate the compatible data\n",
        "- On a prelimiary **Transformer-based** training, we are able to get a decent classifier within 25 epochs.\n",
        "- The macro-level metric might be lower because of the skewness of the class distribution.\n",
        "\n",
        "> See the final section where I also evaluate a jaccard-based metric"
      ]
    },
    {
      "cell_type": "code",
      "metadata": {
        "colab": {
          "base_uri": "https://localhost:8080/"
        },
        "id": "-6341Ltu1uye",
        "outputId": "ecd7defb-eb26-4a3d-e918-e89360de7079"
      },
      "source": [
        "from google.colab import drive\n",
        "drive.mount('/content/drive')"
      ],
      "execution_count": 1,
      "outputs": [
        {
          "output_type": "stream",
          "text": [
            "Mounted at /content/drive\n"
          ],
          "name": "stdout"
        }
      ]
    },
    {
      "cell_type": "code",
      "metadata": {
        "id": "144XyoTb2afg"
      },
      "source": [
        "import os"
      ],
      "execution_count": 2,
      "outputs": []
    },
    {
      "cell_type": "code",
      "metadata": {
        "id": "UOQxwYNk2Fwb"
      },
      "source": [
        "DRIVE_BASE = \"/content/drive/MyDrive/Colab Notebooks/uah-ra/\""
      ],
      "execution_count": 3,
      "outputs": []
    },
    {
      "cell_type": "code",
      "metadata": {
        "id": "2BCoS8CD2Yrh"
      },
      "source": [
        "KW_PATH = os.path.join(DRIVE_BASE, \"data/keywords.txt\")\n",
        "DATA_PATH = os.path.join(DRIVE_BASE, \"data/data.csv\")"
      ],
      "execution_count": 7,
      "outputs": []
    },
    {
      "cell_type": "code",
      "metadata": {
        "id": "VCDwpVdb2mxE"
      },
      "source": [
        "import numpy as np\n",
        "import pandas as pd\n",
        "import matplotlib.pyplot as plt\n",
        "import seaborn as sns\n",
        "\n",
        "%matplotlib inline"
      ],
      "execution_count": 8,
      "outputs": []
    },
    {
      "cell_type": "code",
      "metadata": {
        "id": "SY8DZlml2qPE"
      },
      "source": [
        "def load_keywords(path):\n",
        "    res = []\n",
        "    with open(path) as f:\n",
        "        text = f.read().strip()\n",
        "        tags_str = text.split(\",\")\n",
        "        res = map(lambda t: [_.strip().lower() for _ in t.split(\">\")], tags_str)\n",
        "        res = filter(lambda x: len(x) > 0, res)\n",
        "        res = list(res)\n",
        "    return res"
      ],
      "execution_count": 9,
      "outputs": []
    },
    {
      "cell_type": "code",
      "metadata": {
        "colab": {
          "base_uri": "https://localhost:8080/"
        },
        "id": "WO41bXr62rpr",
        "outputId": "0bd3cc77-f677-4a4d-d939-93b5e45473a7"
      },
      "source": [
        "KEYWORDS = load_keywords(KW_PATH)\n",
        "len(KEYWORDS), len(set([kw for kws in KEYWORDS for kw in kws]))"
      ],
      "execution_count": 10,
      "outputs": [
        {
          "output_type": "execute_result",
          "data": {
            "text/plain": [
              "(1654, 1320)"
            ]
          },
          "metadata": {
            "tags": []
          },
          "execution_count": 10
        }
      ]
    },
    {
      "cell_type": "code",
      "metadata": {
        "colab": {
          "base_uri": "https://localhost:8080/"
        },
        "id": "OhYJHdL-HI2V",
        "outputId": "44485751-dab6-4e23-97a6-cfc938d3435b"
      },
      "source": [
        "KEYWORDS[:5]"
      ],
      "execution_count": 12,
      "outputs": [
        {
          "output_type": "execute_result",
          "data": {
            "text/plain": [
              "[['earth science',\n",
              "  'terrestrial hydrosphere',\n",
              "  'surface water',\n",
              "  'surface water processes/measurements',\n",
              "  'discharge/flow'],\n",
              " ['earth science',\n",
              "  'terrestrial hydrosphere',\n",
              "  'surface water',\n",
              "  'surface water processes/measurements',\n",
              "  'hydropattern'],\n",
              " ['earth science',\n",
              "  'terrestrial hydrosphere',\n",
              "  'surface water',\n",
              "  'surface water processes/measurements',\n",
              "  'stage height'],\n",
              " ['earth science', 'solid earth', 'rocks/minerals', 'age determinations'],\n",
              " ['earth science', 'cryosphere', 'sea ice', 'ice depth/thickness', 'depth']]"
            ]
          },
          "metadata": {
            "tags": []
          },
          "execution_count": 12
        }
      ]
    },
    {
      "cell_type": "markdown",
      "metadata": {
        "id": "WWESiiOA23c2"
      },
      "source": [
        "# Tag Analysis"
      ]
    },
    {
      "cell_type": "code",
      "metadata": {
        "colab": {
          "base_uri": "https://localhost:8080/"
        },
        "id": "fva3vYHv2wKT",
        "outputId": "893dbd7a-bec0-496d-b89b-399e56c4fb89"
      },
      "source": [
        "!pip install loguru"
      ],
      "execution_count": 13,
      "outputs": [
        {
          "output_type": "stream",
          "text": [
            "Collecting loguru\n",
            "  Downloading loguru-0.5.3-py3-none-any.whl (57 kB)\n",
            "\u001b[?25l\r\u001b[K     |█████▊                          | 10 kB 20.7 MB/s eta 0:00:01\r\u001b[K     |███████████▌                    | 20 kB 21.5 MB/s eta 0:00:01\r\u001b[K     |█████████████████▏              | 30 kB 16.6 MB/s eta 0:00:01\r\u001b[K     |███████████████████████         | 40 kB 15.1 MB/s eta 0:00:01\r\u001b[K     |████████████████████████████▋   | 51 kB 7.8 MB/s eta 0:00:01\r\u001b[K     |████████████████████████████████| 57 kB 3.1 MB/s \n",
            "\u001b[?25hInstalling collected packages: loguru\n",
            "Successfully installed loguru-0.5.3\n"
          ],
          "name": "stdout"
        }
      ]
    },
    {
      "cell_type": "code",
      "metadata": {
        "id": "AxzBe9bN266E"
      },
      "source": [
        "from loguru import logger"
      ],
      "execution_count": 14,
      "outputs": []
    },
    {
      "cell_type": "code",
      "metadata": {
        "id": "SsrH5dwl28PE"
      },
      "source": [
        "from collections import Counter, defaultdict"
      ],
      "execution_count": 15,
      "outputs": []
    },
    {
      "cell_type": "code",
      "metadata": {
        "id": "r_b0vt7T28w8"
      },
      "source": [
        "def get_counts(keywords, level=0):\n",
        "    kws = map(lambda x: x[level if level<len(x) else len(x)-1], keywords)\n",
        "    kws = list(kws)\n",
        "    # kws = list(map(str.lower, kws))\n",
        "    counter = Counter(kws)\n",
        "    return counter"
      ],
      "execution_count": 16,
      "outputs": []
    },
    {
      "cell_type": "code",
      "metadata": {
        "id": "XilboUHy2-Ts"
      },
      "source": [
        "def analyze_kws(keywords, topn=10):\n",
        "    plt.figure(figsize=(15, 8))\n",
        "    for level in [0, 1, 2, 3, -1]:\n",
        "        _ = get_counts(KEYWORDS, level=level)\n",
        "        logger.debug(f\"[Level={level}, NKWs={len(_)}] : {_.most_common(10)}\")\n",
        "        df = pd.DataFrame(_.most_common(topn), columns=[\"kw\", \"frequency\"])\n",
        "        ax = sns.barplot(\n",
        "            x=\"frequency\", y=\"kw\",\n",
        "            data=df,\n",
        "            linewidth=2.5,\n",
        "            facecolor=(1, 1, 1, 0),\n",
        "            errcolor=\".2\",\n",
        "            edgecolor=\".2\"\n",
        "        )\n",
        "        plt.title(f\"Level={level}, topn={topn}\")\n",
        "        plt.figure(figsize=(15, 8))"
      ],
      "execution_count": 17,
      "outputs": []
    },
    {
      "cell_type": "code",
      "metadata": {
        "colab": {
          "base_uri": "https://localhost:8080/",
          "height": 105
        },
        "id": "v86lPBpLJwNY",
        "outputId": "33daa48a-634b-47f8-977e-f2a73153097a"
      },
      "source": [
        "\", \".join(list(get_counts(KEYWORDS, level=1).keys()))"
      ],
      "execution_count": 18,
      "outputs": [
        {
          "output_type": "execute_result",
          "data": {
            "application/vnd.google.colaboratory.intrinsic+json": {
              "type": "string"
            },
            "text/plain": [
              "'terrestrial hydrosphere, solid earth, cryosphere, human dimensions, atmosphere, biological classification, biosphere, land surface, oceans, agriculture, climate indicators, paleoclimate, spectral/engineering, sun-earth interactions, hydrosphere, environmental advisories, not provided, none, spectral engineering, breakup date, ice duration, data analysis and visualization, photograph, ocean optics, surface, and internal layer geometry, nasa decadal survey, active remote sensing, timing'"
            ]
          },
          "metadata": {
            "tags": []
          },
          "execution_count": 18
        }
      ]
    },
    {
      "cell_type": "code",
      "metadata": {
        "colab": {
          "base_uri": "https://localhost:8080/",
          "height": 1000
        },
        "id": "R-xYzCP42_gU",
        "outputId": "c786ae63-00a1-439a-9bad-95d6af7c375f"
      },
      "source": [
        "analyze_kws(KEYWORDS, topn=20)"
      ],
      "execution_count": 19,
      "outputs": [
        {
          "output_type": "stream",
          "text": [
            "2021-07-30 08:23:16.840 | DEBUG    | __main__:analyze_kws:5 - [Level=0, NKWs=10] : [('earth science', 1645), ('breakup date', 1), ('ice duration', 1), ('oceans', 1), ('surface', 1), ('and internal layer geometry', 1), ('earth observation satellites', 1), ('earth remote sensing instruments', 1), ('earth science services', 1), ('timing', 1)]\n",
            "2021-07-30 08:23:16.890 | DEBUG    | __main__:analyze_kws:5 - [Level=1, NKWs=29] : [('atmosphere', 422), ('oceans', 202), ('land surface', 160), ('cryosphere', 148), ('biosphere', 118), ('terrestrial hydrosphere', 117), ('spectral/engineering', 95), ('human dimensions', 85), ('biological classification', 83), ('agriculture', 65)]\n",
            "2021-07-30 08:23:16.971 | DEBUG    | __main__:analyze_kws:5 - [Level=2, NKWs=141] : [('snow/ice', 105), ('soils', 92), ('sea ice', 81), ('animals/vertebrates', 70), ('clouds', 62), ('atmospheric chemistry', 61), ('atmospheric radiation', 51), ('glaciers/ice sheets', 44), ('aerosols', 44), ('atmospheric winds', 42)]\n",
            "2021-07-30 08:23:17.044 | DEBUG    | __main__:analyze_kws:5 - [Level=3, NKWs=742] : [('fish', 37), ('surface winds', 28), ('mammals', 24), ('snow/ice chemistry', 21), ('tectonic landforms', 18), ('halocarbons and halogens', 17), ('reflectance', 16), ('cloud properties', 16), ('ice sheets', 15), ('terrestrial ecosystems', 13)]\n",
            "2021-07-30 08:23:17.118 | DEBUG    | __main__:analyze_kws:5 - [Level=-1, NKWs=1208] : [('none', 15), ('carbon dioxide', 6), ('snow depth', 6), ('permafrost', 6), ('wetlands', 6), ('reflectance', 6), ('soil temperature', 5), ('bidirectional reflectance distribution', 5), ('albedo', 5), ('skin temperature', 5)]\n"
          ],
          "name": "stderr"
        },
        {
          "output_type": "display_data",
          "data": {
            "image/png": "[encoded data removed]",
            "text/plain": [
              "<Figure size 1080x576 with 1 Axes>"
            ]
          },
          "metadata": {
            "tags": [],
            "needs_background": "light"
          }
        },
        {
          "output_type": "display_data",
          "data": {
            "image/png": "[encoded data removed]",
            "text/plain": [
              "<Figure size 1080x576 with 1 Axes>"
            ]
          },
          "metadata": {
            "tags": [],
            "needs_background": "light"
          }
        },
        {
          "output_type": "display_data",
          "data": {
            "image/png": "[encoded data removed]",
            "text/plain": [
              "<Figure size 1080x576 with 1 Axes>"
            ]
          },
          "metadata": {
            "tags": [],
            "needs_background": "light"
          }
        },
        {
          "output_type": "display_data",
          "data": {
            "image/png": "[encoded data removed]",
            "text/plain": [
              "<Figure size 1080x576 with 1 Axes>"
            ]
          },
          "metadata": {
            "tags": [],
            "needs_background": "light"
          }
        },
        {
          "output_type": "display_data",
          "data": {
            "image/png": "[encoded data removed]",
            "text/plain": [
              "<Figure size 1080x576 with 1 Axes>"
            ]
          },
          "metadata": {
            "tags": [],
            "needs_background": "light"
          }
        },
        {
          "output_type": "display_data",
          "data": {
            "text/plain": [
              "<Figure size 1080x576 with 0 Axes>"
            ]
          },
          "metadata": {
            "tags": []
          }
        }
      ]
    },
    {
      "cell_type": "markdown",
      "metadata": {
        "id": "__MOlrWI3M6X"
      },
      "source": [
        "# Data Analysis"
      ]
    },
    {
      "cell_type": "code",
      "metadata": {
        "id": "BOIb9Zuz3AxN"
      },
      "source": [
        "def parse_kws(kw_str, level=2):\n",
        "    res = kw_str.split(\",\")\n",
        "    res = map(lambda kw: [_.strip().lower() for _ in kw.split(\">\")], res)\n",
        "    res = map(lambda x: x[level if level<len(x) else len(x)-1], res)\n",
        "    return list(set(res))\n",
        "\n",
        "def load_data(path, level=0):\n",
        "    logger.info(f\"Loading data from {path}. [KW Level={level}]\")\n",
        "    df = pd.read_csv(path)\n",
        "    df[\"desc\"] = df[\"desc\"].apply(str.strip)\n",
        "    df[\"labels\"] = df[\"keywords\"].apply(lambda x: parse_kws(x, level))\n",
        "    df[\"textlen\"] = df[\"desc\"].apply(len)\n",
        "    return df"
      ],
      "execution_count": 20,
      "outputs": []
    },
    {
      "cell_type": "code",
      "metadata": {
        "colab": {
          "base_uri": "https://localhost:8080/"
        },
        "id": "5RjiG10u3QY4",
        "outputId": "758d5fbf-6e42-44dd-c39d-f51c589dbe10"
      },
      "source": [
        "DATA = load_data(DATA_PATH, level=1)"
      ],
      "execution_count": 21,
      "outputs": [
        {
          "output_type": "stream",
          "text": [
            "2021-07-30 08:23:20.700 | INFO     | __main__:load_data:8 - Loading data from /content/drive/MyDrive/Colab Notebooks/uah-ra/data/data.csv. [KW Level=1]\n"
          ],
          "name": "stderr"
        }
      ]
    },
    {
      "cell_type": "code",
      "metadata": {
        "colab": {
          "base_uri": "https://localhost:8080/"
        },
        "id": "PaxosUAt3TD4",
        "outputId": "e406bcb8-94fd-48b6-f3cc-f0da832cfc4b"
      },
      "source": [
        "DATA.shape"
      ],
      "execution_count": 22,
      "outputs": [
        {
          "output_type": "execute_result",
          "data": {
            "text/plain": [
              "(5999, 4)"
            ]
          },
          "metadata": {
            "tags": []
          },
          "execution_count": 22
        }
      ]
    },
    {
      "cell_type": "code",
      "metadata": {
        "colab": {
          "base_uri": "https://localhost:8080/",
          "height": 537
        },
        "id": "5MkKxnFj3XUZ",
        "outputId": "c5d53a0d-eb46-458d-8115-d83b7334c367"
      },
      "source": [
        "DATA.head(10)"
      ],
      "execution_count": 23,
      "outputs": [
        {
          "output_type": "execute_result",
          "data": {
            "text/html": [
              "<div>\n",
              "<style scoped>\n",
              "    .dataframe tbody tr th:only-of-type {\n",
              "        vertical-align: middle;\n",
              "    }\n",
              "\n",
              "    .dataframe tbody tr th {\n",
              "        vertical-align: top;\n",
              "    }\n",
              "\n",
              "    .dataframe thead th {\n",
              "        text-align: right;\n",
              "    }\n",
              "</style>\n",
              "<table border=\"1\" class=\"dataframe\">\n",
              "  <thead>\n",
              "    <tr style=\"text-align: right;\">\n",
              "      <th></th>\n",
              "      <th>desc</th>\n",
              "      <th>keywords</th>\n",
              "      <th>labels</th>\n",
              "      <th>textlen</th>\n",
              "    </tr>\n",
              "  </thead>\n",
              "  <tbody>\n",
              "    <tr>\n",
              "      <th>0</th>\n",
              "      <td>USGS 15 minute stream flow data for Kings Cree...</td>\n",
              "      <td>EARTH SCIENCE &gt; TERRESTRIAL HYDROSPHERE &gt; SURF...</td>\n",
              "      <td>[terrestrial hydrosphere]</td>\n",
              "      <td>68</td>\n",
              "    </tr>\n",
              "    <tr>\n",
              "      <th>1</th>\n",
              "      <td>This data set contains the VSMOW-SLAP d17O, d1...</td>\n",
              "      <td>EARTH SCIENCE &gt; Solid Earth &gt; Rocks/Minerals &gt;...</td>\n",
              "      <td>[solid earth, cryosphere]</td>\n",
              "      <td>425</td>\n",
              "    </tr>\n",
              "    <tr>\n",
              "      <th>2</th>\n",
              "      <td>Digital line graph (DLG) data are digital repr...</td>\n",
              "      <td>EARTH SCIENCE &gt; HUMAN DIMENSIONS &gt; BOUNDARIES ...</td>\n",
              "      <td>[human dimensions, terrestrial hydrosphere]</td>\n",
              "      <td>751</td>\n",
              "    </tr>\n",
              "    <tr>\n",
              "      <th>3</th>\n",
              "      <td>The 2000 Pilot Environmental Sustainability In...</td>\n",
              "      <td>EARTH SCIENCE &gt; ATMOSPHERE &gt; AIR QUALITY &gt; EMI...</td>\n",
              "      <td>[biological classification, atmosphere, human ...</td>\n",
              "      <td>956</td>\n",
              "    </tr>\n",
              "    <tr>\n",
              "      <th>4</th>\n",
              "      <td>The 2001 Environmental Sustainability Index (E...</td>\n",
              "      <td>EARTH SCIENCE &gt; ATMOSPHERE &gt; AIR QUALITY &gt; EMI...</td>\n",
              "      <td>[biological classification, atmosphere, human ...</td>\n",
              "      <td>989</td>\n",
              "    </tr>\n",
              "    <tr>\n",
              "      <th>5</th>\n",
              "      <td>The 2002 Environmental Sustainability Index (E...</td>\n",
              "      <td>EARTH SCIENCE &gt; ATMOSPHERE &gt; AIR QUALITY &gt; EMI...</td>\n",
              "      <td>[biological classification, atmosphere, oceans...</td>\n",
              "      <td>760</td>\n",
              "    </tr>\n",
              "    <tr>\n",
              "      <th>6</th>\n",
              "      <td>The 2005 Environmental Sustainability Index (E...</td>\n",
              "      <td>EARTH SCIENCE &gt; ATMOSPHERE &gt; AIR QUALITY &gt; EMI...</td>\n",
              "      <td>[biological classification, atmosphere, human ...</td>\n",
              "      <td>940</td>\n",
              "    </tr>\n",
              "    <tr>\n",
              "      <th>7</th>\n",
              "      <td>The 2008 Environmental Performance Index (EPI)...</td>\n",
              "      <td>EARTH SCIENCE &gt; AGRICULTURE &gt; AGRICULTURAL AQU...</td>\n",
              "      <td>[human dimensions, agriculture, atmosphere, bi...</td>\n",
              "      <td>1504</td>\n",
              "    </tr>\n",
              "    <tr>\n",
              "      <th>8</th>\n",
              "      <td>The 2010 Environmental Performance Index (EPI)...</td>\n",
              "      <td>EARTH SCIENCE &gt; AGRICULTURE &gt; AGRICULTURAL AQU...</td>\n",
              "      <td>[human dimensions, agriculture, atmosphere, bi...</td>\n",
              "      <td>852</td>\n",
              "    </tr>\n",
              "    <tr>\n",
              "      <th>9</th>\n",
              "      <td>The 2012 Environmental Performance Index (EPI)...</td>\n",
              "      <td>EARTH SCIENCE &gt; AGRICULTURE &gt; AGRICULTURAL AQU...</td>\n",
              "      <td>[human dimensions, agriculture, atmosphere, bi...</td>\n",
              "      <td>1402</td>\n",
              "    </tr>\n",
              "  </tbody>\n",
              "</table>\n",
              "</div>"
            ],
            "text/plain": [
              "                                                desc  ... textlen\n",
              "0  USGS 15 minute stream flow data for Kings Cree...  ...      68\n",
              "1  This data set contains the VSMOW-SLAP d17O, d1...  ...     425\n",
              "2  Digital line graph (DLG) data are digital repr...  ...     751\n",
              "3  The 2000 Pilot Environmental Sustainability In...  ...     956\n",
              "4  The 2001 Environmental Sustainability Index (E...  ...     989\n",
              "5  The 2002 Environmental Sustainability Index (E...  ...     760\n",
              "6  The 2005 Environmental Sustainability Index (E...  ...     940\n",
              "7  The 2008 Environmental Performance Index (EPI)...  ...    1504\n",
              "8  The 2010 Environmental Performance Index (EPI)...  ...     852\n",
              "9  The 2012 Environmental Performance Index (EPI)...  ...    1402\n",
              "\n",
              "[10 rows x 4 columns]"
            ]
          },
          "metadata": {
            "tags": []
          },
          "execution_count": 23
        }
      ]
    },
    {
      "cell_type": "code",
      "metadata": {
        "id": "64Ljd-338tuZ"
      },
      "source": [
        ""
      ],
      "execution_count": 23,
      "outputs": []
    },
    {
      "cell_type": "code",
      "metadata": {
        "id": "s5PuxtYENMdx"
      },
      "source": [
        "def analyze_labels(df):\n",
        "    df = df.copy()\n",
        "    labels = [l for ls in df[\"labels\"] for l in ls]\n",
        "    uniques = set(labels)\n",
        "    logger.info(f\"{len(uniques)} unique labels\")"
      ],
      "execution_count": 24,
      "outputs": []
    },
    {
      "cell_type": "code",
      "metadata": {
        "colab": {
          "base_uri": "https://localhost:8080/"
        },
        "id": "3jIV_bSzNkh5",
        "outputId": "53d81327-d921-4963-ccf8-a9b795e5b8ed"
      },
      "source": [
        "analyze_labels(DATA)"
      ],
      "execution_count": 25,
      "outputs": [
        {
          "output_type": "stream",
          "text": [
            "2021-07-30 08:23:38.809 | INFO     | __main__:analyze_labels:5 - 29 unique labels\n"
          ],
          "name": "stderr"
        }
      ]
    },
    {
      "cell_type": "code",
      "metadata": {
        "id": "_L9GNTFRJfPr"
      },
      "source": [
        "# idx = 2\n",
        "# _data.iloc[2].keywords_processed"
      ],
      "execution_count": 26,
      "outputs": []
    },
    {
      "cell_type": "code",
      "metadata": {
        "id": "H0MMa2S83YXo"
      },
      "source": [
        "_data = DATA.copy()\n",
        "_data = _data[_data[\"textlen\"]>0]"
      ],
      "execution_count": 27,
      "outputs": []
    },
    {
      "cell_type": "code",
      "metadata": {
        "colab": {
          "base_uri": "https://localhost:8080/"
        },
        "id": "DUUXNTr_MpTR",
        "outputId": "b5ba974d-b0cd-4b21-864e-54f135125d93"
      },
      "source": [
        "_data.shape"
      ],
      "execution_count": 28,
      "outputs": [
        {
          "output_type": "execute_result",
          "data": {
            "text/plain": [
              "(5999, 4)"
            ]
          },
          "metadata": {
            "tags": []
          },
          "execution_count": 28
        }
      ]
    },
    {
      "cell_type": "code",
      "metadata": {
        "colab": {
          "base_uri": "https://localhost:8080/"
        },
        "id": "yBXBekFk3eK9",
        "outputId": "2665f8d7-2794-493b-a124-08b38c40b42d"
      },
      "source": [
        "# BERT can only process 512 tokens at once\n",
        "len(_data[_data[\"textlen\"] <= 512]) / len(_data), len(_data[_data[\"textlen\"] <= 1024]) / len(_data)"
      ],
      "execution_count": 29,
      "outputs": [
        {
          "output_type": "execute_result",
          "data": {
            "text/plain": [
              "(0.3295549258209702, 0.6309384897482914)"
            ]
          },
          "metadata": {
            "tags": []
          },
          "execution_count": 29
        }
      ]
    },
    {
      "cell_type": "code",
      "metadata": {
        "colab": {
          "base_uri": "https://localhost:8080/",
          "height": 719
        },
        "id": "HKIu_vkz3hmz",
        "outputId": "55d1afdb-5612-4441-d8e1-d971bbed3ff8"
      },
      "source": [
        "plt.figure(figsize=(20, 15))\n",
        "sns.histplot(data=_data, x=\"textlen\", bins=100).set(xlim=(0, 3000))"
      ],
      "execution_count": 30,
      "outputs": [
        {
          "output_type": "execute_result",
          "data": {
            "text/plain": [
              "[(0.0, 3000.0)]"
            ]
          },
          "metadata": {
            "tags": []
          },
          "execution_count": 30
        },
        {
          "output_type": "display_data",
          "data": {
            "image/png": "[encoded data removed]",
            "text/plain": [
              "<Figure size 1440x1080 with 1 Axes>"
            ]
          },
          "metadata": {
            "tags": [],
            "needs_background": "light"
          }
        }
      ]
    },
    {
      "cell_type": "markdown",
      "metadata": {
        "id": "Tb_-USK2Ilqk"
      },
      "source": [
        "# Prepare Dataset"
      ]
    },
    {
      "cell_type": "code",
      "metadata": {
        "id": "2WxySRkbPp-r"
      },
      "source": [
        "DATA_TO_USE = DATA.copy()\n",
        "# DATA_TO_USE = DATA_TO_USE[DATA_TO_USE[\"textlen\"]<=500]"
      ],
      "execution_count": 32,
      "outputs": []
    },
    {
      "cell_type": "code",
      "metadata": {
        "colab": {
          "base_uri": "https://localhost:8080/"
        },
        "id": "7_Zgwb2yQOVl",
        "outputId": "265fb020-f016-4e9c-c940-362d23280564"
      },
      "source": [
        "DATA_TO_USE.shape"
      ],
      "execution_count": 33,
      "outputs": [
        {
          "output_type": "execute_result",
          "data": {
            "text/plain": [
              "(5999, 4)"
            ]
          },
          "metadata": {
            "tags": []
          },
          "execution_count": 33
        }
      ]
    },
    {
      "cell_type": "code",
      "metadata": {
        "colab": {
          "base_uri": "https://localhost:8080/",
          "height": 293
        },
        "id": "xnwUllgfQn6P",
        "outputId": "74afba8b-f755-4035-e46e-3e83a4bac5fc"
      },
      "source": [
        "DATA_TO_USE.head()"
      ],
      "execution_count": 34,
      "outputs": [
        {
          "output_type": "execute_result",
          "data": {
            "text/html": [
              "<div>\n",
              "<style scoped>\n",
              "    .dataframe tbody tr th:only-of-type {\n",
              "        vertical-align: middle;\n",
              "    }\n",
              "\n",
              "    .dataframe tbody tr th {\n",
              "        vertical-align: top;\n",
              "    }\n",
              "\n",
              "    .dataframe thead th {\n",
              "        text-align: right;\n",
              "    }\n",
              "</style>\n",
              "<table border=\"1\" class=\"dataframe\">\n",
              "  <thead>\n",
              "    <tr style=\"text-align: right;\">\n",
              "      <th></th>\n",
              "      <th>desc</th>\n",
              "      <th>keywords</th>\n",
              "      <th>labels</th>\n",
              "      <th>textlen</th>\n",
              "    </tr>\n",
              "  </thead>\n",
              "  <tbody>\n",
              "    <tr>\n",
              "      <th>0</th>\n",
              "      <td>USGS 15 minute stream flow data for Kings Cree...</td>\n",
              "      <td>EARTH SCIENCE &gt; TERRESTRIAL HYDROSPHERE &gt; SURF...</td>\n",
              "      <td>[terrestrial hydrosphere]</td>\n",
              "      <td>68</td>\n",
              "    </tr>\n",
              "    <tr>\n",
              "      <th>1</th>\n",
              "      <td>This data set contains the VSMOW-SLAP d17O, d1...</td>\n",
              "      <td>EARTH SCIENCE &gt; Solid Earth &gt; Rocks/Minerals &gt;...</td>\n",
              "      <td>[solid earth, cryosphere]</td>\n",
              "      <td>425</td>\n",
              "    </tr>\n",
              "    <tr>\n",
              "      <th>2</th>\n",
              "      <td>Digital line graph (DLG) data are digital repr...</td>\n",
              "      <td>EARTH SCIENCE &gt; HUMAN DIMENSIONS &gt; BOUNDARIES ...</td>\n",
              "      <td>[human dimensions, terrestrial hydrosphere]</td>\n",
              "      <td>751</td>\n",
              "    </tr>\n",
              "    <tr>\n",
              "      <th>3</th>\n",
              "      <td>The 2000 Pilot Environmental Sustainability In...</td>\n",
              "      <td>EARTH SCIENCE &gt; ATMOSPHERE &gt; AIR QUALITY &gt; EMI...</td>\n",
              "      <td>[biological classification, atmosphere, human ...</td>\n",
              "      <td>956</td>\n",
              "    </tr>\n",
              "    <tr>\n",
              "      <th>4</th>\n",
              "      <td>The 2001 Environmental Sustainability Index (E...</td>\n",
              "      <td>EARTH SCIENCE &gt; ATMOSPHERE &gt; AIR QUALITY &gt; EMI...</td>\n",
              "      <td>[biological classification, atmosphere, human ...</td>\n",
              "      <td>989</td>\n",
              "    </tr>\n",
              "  </tbody>\n",
              "</table>\n",
              "</div>"
            ],
            "text/plain": [
              "                                                desc  ... textlen\n",
              "0  USGS 15 minute stream flow data for Kings Cree...  ...      68\n",
              "1  This data set contains the VSMOW-SLAP d17O, d1...  ...     425\n",
              "2  Digital line graph (DLG) data are digital repr...  ...     751\n",
              "3  The 2000 Pilot Environmental Sustainability In...  ...     956\n",
              "4  The 2001 Environmental Sustainability Index (E...  ...     989\n",
              "\n",
              "[5 rows x 4 columns]"
            ]
          },
          "metadata": {
            "tags": []
          },
          "execution_count": 34
        }
      ]
    },
    {
      "cell_type": "code",
      "metadata": {
        "colab": {
          "base_uri": "https://localhost:8080/"
        },
        "id": "AH2HldquYGMZ",
        "outputId": "0c242015-7def-43f3-a738-b5bd32dc77fb"
      },
      "source": [
        "analyze_labels(DATA_TO_USE)"
      ],
      "execution_count": 35,
      "outputs": [
        {
          "output_type": "stream",
          "text": [
            "2021-07-30 08:24:02.691 | INFO     | __main__:analyze_labels:5 - 29 unique labels\n"
          ],
          "name": "stderr"
        }
      ]
    },
    {
      "cell_type": "markdown",
      "metadata": {
        "id": "Guw0J4cnivac"
      },
      "source": [
        "# Generate Dataset\n",
        "Compatible to the library format"
      ]
    },
    {
      "cell_type": "markdown",
      "metadata": {
        "id": "Q4xoTt6pPP45"
      },
      "source": [
        "## Split Dataset"
      ]
    },
    {
      "cell_type": "code",
      "metadata": {
        "id": "UYATgxlLOkW8"
      },
      "source": [
        "from sklearn.model_selection import train_test_split"
      ],
      "execution_count": 43,
      "outputs": []
    },
    {
      "cell_type": "code",
      "metadata": {
        "id": "NFcCLWGrOxXA"
      },
      "source": [
        "#  X_train, X_test, Y_train, Y_test = train_test_split(DATA_TO_USE[\"desc\"].to_numpy(), LABELS_ENCODED, test_size=0.1, random_state=42)\n",
        "DATA_TRAIN, DATA_TEST = train_test_split(DATA_TO_USE, test_size=0.1, random_state=42)\n",
        "\n",
        "#  X_train, X_val, Y_train, Y_val = train_test_split(X_train, Y_train, test_size=0.1, random_state=42)"
      ],
      "execution_count": 99,
      "outputs": []
    },
    {
      "cell_type": "code",
      "metadata": {
        "colab": {
          "base_uri": "https://localhost:8080/",
          "height": 293
        },
        "id": "Btc38BUZhOqF",
        "outputId": "b49bf4d6-38c8-4952-9bef-31165bd236a4"
      },
      "source": [
        "DATA_TRAIN.head()"
      ],
      "execution_count": 100,
      "outputs": [
        {
          "output_type": "execute_result",
          "data": {
            "text/html": [
              "<div>\n",
              "<style scoped>\n",
              "    .dataframe tbody tr th:only-of-type {\n",
              "        vertical-align: middle;\n",
              "    }\n",
              "\n",
              "    .dataframe tbody tr th {\n",
              "        vertical-align: top;\n",
              "    }\n",
              "\n",
              "    .dataframe thead th {\n",
              "        text-align: right;\n",
              "    }\n",
              "</style>\n",
              "<table border=\"1\" class=\"dataframe\">\n",
              "  <thead>\n",
              "    <tr style=\"text-align: right;\">\n",
              "      <th></th>\n",
              "      <th>desc</th>\n",
              "      <th>keywords</th>\n",
              "      <th>labels</th>\n",
              "      <th>textlen</th>\n",
              "    </tr>\n",
              "  </thead>\n",
              "  <tbody>\n",
              "    <tr>\n",
              "      <th>4532</th>\n",
              "      <td>This dataset contains ocean surface Eastward w...</td>\n",
              "      <td>EARTH SCIENCE &gt; OCEANS &gt; OCEAN WINDS &gt; SURFACE...</td>\n",
              "      <td>[oceans]</td>\n",
              "      <td>177</td>\n",
              "    </tr>\n",
              "    <tr>\n",
              "      <th>907</th>\n",
              "      <td>This data set provides data for MODIS-derived ...</td>\n",
              "      <td>EARTH SCIENCE &gt; BIOSPHERE &gt; VEGETATION &gt; PHOTO...</td>\n",
              "      <td>[climate indicators, biosphere, oceans]</td>\n",
              "      <td>702</td>\n",
              "    </tr>\n",
              "    <tr>\n",
              "      <th>1918</th>\n",
              "      <td>This data set contains geolocated surface elev...</td>\n",
              "      <td>EARTH SCIENCE &gt; Cryosphere &gt; Glaciers/Ice Shee...</td>\n",
              "      <td>[cryosphere]</td>\n",
              "      <td>558</td>\n",
              "    </tr>\n",
              "    <tr>\n",
              "      <th>1488</th>\n",
              "      <td>This dataset is the GPM Level 3 IMERG  *Early*...</td>\n",
              "      <td>EARTH SCIENCE &gt; ATMOSPHERE &gt; PRECIPITATION,EAR...</td>\n",
              "      <td>[atmosphere]</td>\n",
              "      <td>5546</td>\n",
              "    </tr>\n",
              "    <tr>\n",
              "      <th>2721</th>\n",
              "      <td>ML2IWC is the EOS Aura Microwave Limb Sounder ...</td>\n",
              "      <td>EARTH SCIENCE &gt; ATMOSPHERE &gt; CLOUDS &gt; CLOUD MI...</td>\n",
              "      <td>[atmosphere]</td>\n",
              "      <td>901</td>\n",
              "    </tr>\n",
              "  </tbody>\n",
              "</table>\n",
              "</div>"
            ],
            "text/plain": [
              "                                                   desc  ... textlen\n",
              "4532  This dataset contains ocean surface Eastward w...  ...     177\n",
              "907   This data set provides data for MODIS-derived ...  ...     702\n",
              "1918  This data set contains geolocated surface elev...  ...     558\n",
              "1488  This dataset is the GPM Level 3 IMERG  *Early*...  ...    5546\n",
              "2721  ML2IWC is the EOS Aura Microwave Limb Sounder ...  ...     901\n",
              "\n",
              "[5 rows x 4 columns]"
            ]
          },
          "metadata": {
            "tags": []
          },
          "execution_count": 100
        }
      ]
    },
    {
      "cell_type": "markdown",
      "metadata": {
        "id": "S94qpj3iheHn"
      },
      "source": [
        "# Install Library"
      ]
    },
    {
      "cell_type": "code",
      "metadata": {
        "id": "xwRFwYG6d5Nz",
        "colab": {
          "base_uri": "https://localhost:8080/"
        },
        "outputId": "dd395149-6e0e-47b0-bbab-6c828f1fb652"
      },
      "source": [
        "!git clone https://github.com/Tencent/NeuralNLP-NeuralClassifier"
      ],
      "execution_count": 47,
      "outputs": [
        {
          "output_type": "stream",
          "text": [
            "Cloning into 'NeuralNLP-NeuralClassifier'...\n",
            "remote: Enumerating objects: 161, done.\u001b[K\n",
            "remote: Counting objects: 100% (46/46), done.\u001b[K\n",
            "remote: Compressing objects: 100% (39/39), done.\u001b[K\n",
            "remote: Total 161 (delta 17), reused 18 (delta 5), pack-reused 115\u001b[K\n",
            "Receiving objects: 100% (161/161), 26.26 MiB | 17.33 MiB/s, done.\n",
            "Resolving deltas: 100% (68/68), done.\n"
          ],
          "name": "stdout"
        }
      ]
    },
    {
      "cell_type": "code",
      "metadata": {
        "colab": {
          "base_uri": "https://localhost:8080/"
        },
        "id": "rs1wCELvhhHG",
        "outputId": "3bb97d2d-3289-4550-f87b-bb8b3dd792a1"
      },
      "source": [
        "%cd \"/content/NeuralNLP-NeuralClassifier\""
      ],
      "execution_count": 48,
      "outputs": [
        {
          "output_type": "stream",
          "text": [
            "/content/NeuralNLP-NeuralClassifier\n"
          ],
          "name": "stdout"
        }
      ]
    },
    {
      "cell_type": "code",
      "metadata": {
        "colab": {
          "base_uri": "https://localhost:8080/"
        },
        "id": "wuHI1CDPhmvB",
        "outputId": "db7f379a-cdff-4d7f-85ef-bbf046f847dc"
      },
      "source": [
        "!ls"
      ],
      "execution_count": 49,
      "outputs": [
        {
          "output_type": "stream",
          "text": [
            "conf\t   eval.py\t\t\t     predict.py        train.py\n",
            "config.py  evaluate\t\t\t     readme\t       util.py\n",
            "data\t   License_for_NeuralClassifier.TXT  README.md\n",
            "dataset    model\t\t\t     requirements.txt\n"
          ],
          "name": "stdout"
        }
      ]
    },
    {
      "cell_type": "code",
      "metadata": {
        "colab": {
          "base_uri": "https://localhost:8080/"
        },
        "id": "NmKl4082hn78",
        "outputId": "3438230d-450a-4e7f-9c1e-e64db07b01fc"
      },
      "source": [
        "! pip install -r requirements.txt"
      ],
      "execution_count": 50,
      "outputs": [
        {
          "output_type": "stream",
          "text": [
            "Requirement already satisfied: numpy>=1.16.2 in /usr/local/lib/python3.7/dist-packages (from -r requirements.txt (line 1)) (1.19.5)\n",
            "Requirement already satisfied: torch>=1.0.1.post2 in /usr/local/lib/python3.7/dist-packages (from -r requirements.txt (line 2)) (1.9.0+cu102)\n",
            "Requirement already satisfied: typing-extensions in /usr/local/lib/python3.7/dist-packages (from torch>=1.0.1.post2->-r requirements.txt (line 2)) (3.7.4.3)\n"
          ],
          "name": "stdout"
        }
      ]
    },
    {
      "cell_type": "code",
      "metadata": {
        "colab": {
          "base_uri": "https://localhost:8080/"
        },
        "id": "cNYXhqZdhqfY",
        "outputId": "7499bd9f-d7e6-420e-a72b-5bd2e7bf572c"
      },
      "source": [
        "! python train.py conf/train.hierar.json"
      ],
      "execution_count": 56,
      "outputs": [
        {
          "output_type": "stream",
          "text": [
            "Use dataset to generate dict.\n",
            "Size of doc_label dict is 102\n",
            "Size of doc_token dict is 114596\n",
            "Size of doc_char dict is 59\n",
            "Size of doc_token_ngram dict is 0\n",
            "Size of doc_keyword dict is 0\n",
            "Size of doc_topic dict is 0\n",
            "Shrink dict over.\n",
            "Size of doc_label dict is 102\n",
            "Size of doc_token dict is 114596\n",
            "Size of doc_char dict is 59\n",
            "Size of doc_token_ngram dict is 0\n",
            "Size of doc_keyword dict is 0\n",
            "Size of doc_topic dict is 0\n",
            "/usr/local/lib/python3.7/dist-packages/torch/utils/data/dataloader.py:481: UserWarning: This DataLoader will create 4 worker processes in total. Our suggested max number of worker in current system is 2, which is smaller than what this DataLoader is going to create. Please be aware that excessive worker creation might get DataLoader running slow or even freeze, lower the worker number to avoid potential slowness/freeze if necessary.\n",
            "  cpuset_checked))\n",
            "[W pthreadpool-cpp.cc:90] Warning: Leaking Caffe2 thread-pool after fork. (function pthreadpool)\n",
            "[W pthreadpool-cpp.cc:90] Warning: Leaking Caffe2 thread-pool after fork. (function pthreadpool)\n",
            "[W pthreadpool-cpp.cc:90] Warning: Leaking Caffe2 thread-pool after fork. (function pthreadpool)\n",
            "[W pthreadpool-cpp.cc:90] Warning: Leaking Caffe2 thread-pool after fork. (function pthreadpool)\n",
            "Train performance at epoch 1 is precision: 0.771626, recall: 0.350449, fscore: 0.481992, macro-fscore: 0.164454, right: 12265, predict: 15895, standard: 34998.\n",
            "Loss is: 0.082530.\n",
            "[W pthreadpool-cpp.cc:90] Warning: Leaking Caffe2 thread-pool after fork. (function pthreadpool)\n",
            "[W pthreadpool-cpp.cc:90] Warning: Leaking Caffe2 thread-pool after fork. (function pthreadpool)\n",
            "[W pthreadpool-cpp.cc:90] Warning: Leaking Caffe2 thread-pool after fork. (function pthreadpool)\n",
            "[W pthreadpool-cpp.cc:90] Warning: Leaking Caffe2 thread-pool after fork. (function pthreadpool)\n",
            "Validate performance at epoch 1 is precision: 0.712863, recall: 0.285018, fscore: 0.407220, macro-fscore: 0.137223, right: 3508, predict: 4921, standard: 12308.\n",
            "Loss is: 0.088413.\n",
            "[W pthreadpool-cpp.cc:90] Warning: Leaking Caffe2 thread-pool after fork. (function pthreadpool)\n",
            "[W pthreadpool-cpp.cc:90] Warning: Leaking Caffe2 thread-pool after fork. (function pthreadpool)\n",
            "[W pthreadpool-cpp.cc:90] Warning: Leaking Caffe2 thread-pool after fork. (function pthreadpool)\n",
            "[W pthreadpool-cpp.cc:90] Warning: Leaking Caffe2 thread-pool after fork. (function pthreadpool)\n",
            "test performance at epoch 1 is precision: 0.712863, recall: 0.285018, fscore: 0.407220, macro-fscore: 0.137223, right: 3508, predict: 4921, standard: 12308.\n",
            "Loss is: 0.088413.\n",
            "Epoch 1 cost time: 83 second\n",
            "[W pthreadpool-cpp.cc:90] Warning: Leaking Caffe2 thread-pool after fork. (function pthreadpool)\n",
            "[W pthreadpool-cpp.cc:90] Warning: Leaking Caffe2 thread-pool after fork. (function pthreadpool)\n",
            "[W pthreadpool-cpp.cc:90] Warning: Leaking Caffe2 thread-pool after fork. (function pthreadpool)\n",
            "[W pthreadpool-cpp.cc:90] Warning: Leaking Caffe2 thread-pool after fork. (function pthreadpool)\n",
            "[W pthreadpool-cpp.cc:90] Warning: Leaking Caffe2 thread-pool after fork. (function pthreadpool)\n",
            "[W pthreadpool-cpp.cc:90] Warning: Leaking Caffe2 thread-pool after fork. (function pthreadpool)\n",
            "[W pthreadpool-cpp.cc:90] Warning: Leaking Caffe2 thread-pool after fork. (function pthreadpool)\n",
            "[W pthreadpool-cpp.cc:90] Warning: Leaking Caffe2 thread-pool after fork. (function pthreadpool)\n",
            "Train performance at epoch 2 is precision: 0.751477, recall: 0.581633, fscore: 0.655736, macro-fscore: 0.335756, right: 20356, predict: 27088, standard: 34998.\n",
            "Loss is: 0.072511.\n",
            "[W pthreadpool-cpp.cc:90] Warning: Leaking Caffe2 thread-pool after fork. (function pthreadpool)\n",
            "[W pthreadpool-cpp.cc:90] Warning: Leaking Caffe2 thread-pool after fork. (function pthreadpool)\n",
            "[W pthreadpool-cpp.cc:90] Warning: Leaking Caffe2 thread-pool after fork. (function pthreadpool)\n",
            "[W pthreadpool-cpp.cc:90] Warning: Leaking Caffe2 thread-pool after fork. (function pthreadpool)\n",
            "Validate performance at epoch 2 is precision: 0.671664, recall: 0.476844, fscore: 0.557731, macro-fscore: 0.258263, right: 5869, predict: 8738, standard: 12308.\n",
            "Loss is: 0.080494.\n",
            "[W pthreadpool-cpp.cc:90] Warning: Leaking Caffe2 thread-pool after fork. (function pthreadpool)\n",
            "[W pthreadpool-cpp.cc:90] Warning: Leaking Caffe2 thread-pool after fork. (function pthreadpool)\n",
            "[W pthreadpool-cpp.cc:90] Warning: Leaking Caffe2 thread-pool after fork. (function pthreadpool)\n",
            "[W pthreadpool-cpp.cc:90] Warning: Leaking Caffe2 thread-pool after fork. (function pthreadpool)\n",
            "test performance at epoch 2 is precision: 0.671664, recall: 0.476844, fscore: 0.557731, macro-fscore: 0.258263, right: 5869, predict: 8738, standard: 12308.\n",
            "Loss is: 0.080494.\n",
            "Epoch 2 cost time: 82 second\n",
            "[W pthreadpool-cpp.cc:90] Warning: Leaking Caffe2 thread-pool after fork. (function pthreadpool)\n",
            "[W pthreadpool-cpp.cc:90] Warning: Leaking Caffe2 thread-pool after fork. (function pthreadpool)\n",
            "[W pthreadpool-cpp.cc:90] Warning: Leaking Caffe2 thread-pool after fork. (function pthreadpool)\n",
            "[W pthreadpool-cpp.cc:90] Warning: Leaking Caffe2 thread-pool after fork. (function pthreadpool)\n",
            "[W pthreadpool-cpp.cc:90] Warning: Leaking Caffe2 thread-pool after fork. (function pthreadpool)\n",
            "[W pthreadpool-cpp.cc:90] Warning: Leaking Caffe2 thread-pool after fork. (function pthreadpool)\n",
            "[W pthreadpool-cpp.cc:90] Warning: Leaking Caffe2 thread-pool after fork. (function pthreadpool)\n",
            "[W pthreadpool-cpp.cc:90] Warning: Leaking Caffe2 thread-pool after fork. (function pthreadpool)\n",
            "Train performance at epoch 3 is precision: 0.725751, recall: 0.687782, fscore: 0.706257, macro-fscore: 0.440359, right: 24071, predict: 33167, standard: 34998.\n",
            "Loss is: 0.055891.\n",
            "[W pthreadpool-cpp.cc:90] Warning: Leaking Caffe2 thread-pool after fork. (function pthreadpool)\n",
            "[W pthreadpool-cpp.cc:90] Warning: Leaking Caffe2 thread-pool after fork. (function pthreadpool)\n",
            "[W pthreadpool-cpp.cc:90] Warning: Leaking Caffe2 thread-pool after fork. (function pthreadpool)\n",
            "[W pthreadpool-cpp.cc:90] Warning: Leaking Caffe2 thread-pool after fork. (function pthreadpool)\n",
            "Validate performance at epoch 3 is precision: 0.626050, recall: 0.551024, fscore: 0.586146, macro-fscore: 0.318034, right: 6782, predict: 10833, standard: 12308.\n",
            "Loss is: 0.065140.\n",
            "[W pthreadpool-cpp.cc:90] Warning: Leaking Caffe2 thread-pool after fork. (function pthreadpool)\n",
            "[W pthreadpool-cpp.cc:90] Warning: Leaking Caffe2 thread-pool after fork. (function pthreadpool)\n",
            "[W pthreadpool-cpp.cc:90] Warning: Leaking Caffe2 thread-pool after fork. (function pthreadpool)\n",
            "[W pthreadpool-cpp.cc:90] Warning: Leaking Caffe2 thread-pool after fork. (function pthreadpool)\n",
            "test performance at epoch 3 is precision: 0.626050, recall: 0.551024, fscore: 0.586146, macro-fscore: 0.318034, right: 6782, predict: 10833, standard: 12308.\n",
            "Loss is: 0.065140.\n",
            "Epoch 3 cost time: 82 second\n",
            "[W pthreadpool-cpp.cc:90] Warning: Leaking Caffe2 thread-pool after fork. (function pthreadpool)\n",
            "[W pthreadpool-cpp.cc:90] Warning: Leaking Caffe2 thread-pool after fork. (function pthreadpool)\n",
            "[W pthreadpool-cpp.cc:90] Warning: Leaking Caffe2 thread-pool after fork. (function pthreadpool)\n",
            "[W pthreadpool-cpp.cc:90] Warning: Leaking Caffe2 thread-pool after fork. (function pthreadpool)\n",
            "Best test performance at epoch 3 is precision: 0.626050, recall: 0.551024, fscore: 0.586146, macro-fscore: 0.318034, right: 6782, predict: 10833, standard: 12308.\n",
            "Loss is: 0.065140.\n"
          ],
          "name": "stdout"
        }
      ]
    },
    {
      "cell_type": "code",
      "metadata": {
        "id": "_U77p1CvhyQG"
      },
      "source": [
        "! python predict.py conf/train.hierar.json data/rcv1_test.hierar.json"
      ],
      "execution_count": 68,
      "outputs": []
    },
    {
      "cell_type": "markdown",
      "metadata": {
        "id": "1zkD0PVNtzO_"
      },
      "source": [
        "## Prepare Custom Dataset"
      ]
    },
    {
      "cell_type": "code",
      "metadata": {
        "id": "KRYHasE1ueKD"
      },
      "source": [
        "from typing import List"
      ],
      "execution_count": 72,
      "outputs": []
    },
    {
      "cell_type": "code",
      "metadata": {
        "id": "nK4xguGMvS_H"
      },
      "source": [
        ""
      ],
      "execution_count": 80,
      "outputs": []
    },
    {
      "cell_type": "markdown",
      "metadata": {
        "id": "XV-W_o1Hx5jf"
      },
      "source": [
        "## Generate Taxonomy"
      ]
    },
    {
      "cell_type": "code",
      "metadata": {
        "id": "Kt84JVnluazK"
      },
      "source": [
        "def get_levels(keywords: List[List[str]], level: int) -> List[str]:\n",
        "    kws = map(lambda x: x[level if level<len(x) else len(x)-1], keywords)\n",
        "    kws = list(set(kws))\n",
        "    return kws"
      ],
      "execution_count": 76,
      "outputs": []
    },
    {
      "cell_type": "code",
      "metadata": {
        "id": "cA6I5j1z0wOI"
      },
      "source": [
        "def process_single_kws(kws: List[str]) -> List[str]:\n",
        "    kws = map(lambda x: \"_\".join(x.split()).upper(), kws)\n",
        "    kws = list(kws)\n",
        "    return kws"
      ],
      "execution_count": 119,
      "outputs": []
    },
    {
      "cell_type": "code",
      "metadata": {
        "id": "AHVwVdpSq_fq"
      },
      "source": [
        "def generate_taxonomy(keywords: List[List[str]], outpath: str) -> None:\n",
        "    keywords_processed = []\n",
        "    for kws in keywords:\n",
        "        kws = process_single_kws(kws)\n",
        "        keywords_processed.append(kws)\n",
        "    keywords = keywords_processed or keywords\n",
        "    roots = get_levels(keywords, level=0)\n",
        "    roots = [\"Root\"] + roots\n",
        "    logger.debug(f\"[Nroots = {len(roots)}] == {roots}\")\n",
        "    logger.info(f\"Writing the custom taxonomy to {outpath}\")\n",
        "    with open(outpath, \"w\") as f:\n",
        "        f.write(\" \".join(roots))\n",
        "        f.write(\"\\n\")\n",
        "        for kws in keywords:\n",
        "            f.write(\" \".join(kws))\n",
        "            f.write(\"\\n\")"
      ],
      "execution_count": 122,
      "outputs": []
    },
    {
      "cell_type": "code",
      "metadata": {
        "colab": {
          "base_uri": "https://localhost:8080/"
        },
        "id": "mq9hSHJhuR6H",
        "outputId": "fc49db93-8897-4952-b275-ebdb4b0194e5"
      },
      "source": [
        "generate_taxonomy(KEYWORDS, outpath=\"data/custom.taxonomy\")"
      ],
      "execution_count": 123,
      "outputs": [
        {
          "output_type": "stream",
          "text": [
            "2021-07-30 09:52:29.508 | DEBUG    | __main__:generate_taxonomy:9 - [Nroots = 11] == ['Root', 'EARTH_OBSERVATION_SATELLITES', 'TIMING', 'EARTH_SCIENCE', 'EARTH_SCIENCE_SERVICES', 'SURFACE', 'EARTH_REMOTE_SENSING_INSTRUMENTS', 'AND_INTERNAL_LAYER_GEOMETRY', 'OCEANS', 'ICE_DURATION', 'BREAKUP_DATE']\n",
            "2021-07-30 09:52:29.512 | INFO     | __main__:generate_taxonomy:10 - Writing the custom taxonomy to data/custom.taxonomy\n"
          ],
          "name": "stderr"
        }
      ]
    },
    {
      "cell_type": "markdown",
      "metadata": {
        "id": "vbd0D6S6x8DE"
      },
      "source": [
        "## Generate Data"
      ]
    },
    {
      "cell_type": "code",
      "metadata": {
        "id": "6AZVNMsf0pG1"
      },
      "source": [
        "import json"
      ],
      "execution_count": 124,
      "outputs": []
    },
    {
      "cell_type": "code",
      "metadata": {
        "id": "oMROvma_x3sz"
      },
      "source": [
        "def tokenize_custom(text: str) -> List[str]:\n",
        "    return text.split()"
      ],
      "execution_count": 125,
      "outputs": []
    },
    {
      "cell_type": "code",
      "metadata": {
        "id": "fCWC7nXa1ur8"
      },
      "source": [
        "def process_keywords_str(keywords_str: str, label_sep=\",\", hierar_sep=\">\") -> List[str]:\n",
        "    keywords = keywords_str.upper().split(label_sep)\n",
        "    keywords = map(str.strip, keywords)\n",
        "    keywords = map(lambda x: [_.strip() for _ in x.split(hierar_sep)], keywords)\n",
        "    keywords = list(keywords)\n",
        "    return keywords"
      ],
      "execution_count": 224,
      "outputs": []
    },
    {
      "cell_type": "code",
      "metadata": {
        "id": "RG7me3FHuS-C"
      },
      "source": [
        "def generate_data(df: pd.DataFrame, outpath: str) -> None:\n",
        "    assert \"desc\" in df\n",
        "    assert \"keywords\" in df\n",
        "    data = []\n",
        "    for _df in df.itertuples():\n",
        "        tokens = tokenize_custom(_df.desc)\n",
        "        keywords_str = _df.keywords\n",
        "        keywords = process_keywords_str(keywords_str)\n",
        "        keywords = list(map(process_single_kws, keywords))\n",
        "        keywords = list(map(lambda kws: \"--\".join(kws), keywords))\n",
        "        data.append({\n",
        "            \"doc_label\": keywords,\n",
        "            \"doc_token\": tokens,\n",
        "            \"doc_keyword\": [],\n",
        "            \"doc_topic\": []\n",
        "        })\n",
        "    if outpath:\n",
        "        logger.info(f\"Writing data to {outpath}\")\n",
        "        with open(outpath, \"w\") as f:\n",
        "            for dct in data:\n",
        "                json.dump(dct, f)\n",
        "                f.write(\"\\n\")\n",
        "    return data"
      ],
      "execution_count": 175,
      "outputs": []
    },
    {
      "cell_type": "code",
      "metadata": {
        "colab": {
          "base_uri": "https://localhost:8080/"
        },
        "id": "kjgYfRPQxVQC",
        "outputId": "b05e9768-8ac6-48e8-ae8c-22efeaf6c19e"
      },
      "source": [
        "final_data = generate_data(DATA_TRAIN, \"data/custom.hierar.json\")\n",
        "final_data = generate_data(DATA_TEST, \"data/custom_test.hierar.json\")"
      ],
      "execution_count": 176,
      "outputs": [
        {
          "output_type": "stream",
          "text": [
            "2021-07-30 10:12:19.512 | INFO     | __main__:generate_data:18 - Writing data to data/custom.hierar.json\n",
            "2021-07-30 10:12:20.043 | INFO     | __main__:generate_data:18 - Writing data to data/custom_test.hierar.json\n"
          ],
          "name": "stderr"
        }
      ]
    },
    {
      "cell_type": "code",
      "metadata": {
        "colab": {
          "base_uri": "https://localhost:8080/"
        },
        "id": "MeaVoeUx3RIc",
        "outputId": "127f743c-3746-4734-919a-ececb825d83e"
      },
      "source": [
        "len(final_data)"
      ],
      "execution_count": 170,
      "outputs": [
        {
          "output_type": "execute_result",
          "data": {
            "text/plain": [
              "600"
            ]
          },
          "metadata": {
            "tags": []
          },
          "execution_count": 170
        }
      ]
    },
    {
      "cell_type": "markdown",
      "metadata": {
        "id": "a3o4bej64lxX"
      },
      "source": [
        "## Generate Config"
      ]
    },
    {
      "cell_type": "code",
      "metadata": {
        "id": "eea9ySuh3UE8"
      },
      "source": [
        "! cp \"/content/NeuralNLP-NeuralClassifier/conf/train.hierar.json\" \"/content/NeuralNLP-NeuralClassifier/conf/custom.train.hierar.json\""
      ],
      "execution_count": 171,
      "outputs": []
    },
    {
      "cell_type": "code",
      "metadata": {
        "id": "l4Fxzefe3l82"
      },
      "source": [
        "! rm -rf \"/content/NeuralNLP-NeuralClassifier/checkpoint_dir_rcv1\""
      ],
      "execution_count": 178,
      "outputs": []
    },
    {
      "cell_type": "markdown",
      "metadata": {
        "id": "VCuJTCln-LYG"
      },
      "source": [
        "## Train\n",
        "\n",
        "> Note: macro-score seems low because of skewed class distribution."
      ]
    },
    {
      "cell_type": "code",
      "metadata": {
        "colab": {
          "base_uri": "https://localhost:8080/"
        },
        "id": "pof6kRc35HDG",
        "outputId": "3ba5cd5d-aa33-4180-bed1-9543ed97029d"
      },
      "source": [
        "! python train.py conf/custom.train.hierar.json"
      ],
      "execution_count": 179,
      "outputs": [
        {
          "output_type": "stream",
          "text": [
            "Use dataset to generate dict.\n",
            "Size of doc_label dict is 2393\n",
            "Size of doc_token dict is 36336\n",
            "Size of doc_char dict is 119\n",
            "Size of doc_token_ngram dict is 0\n",
            "Size of doc_keyword dict is 0\n",
            "Size of doc_topic dict is 0\n",
            "Shrink dict over.\n",
            "Size of doc_label dict is 2393\n",
            "Size of doc_token dict is 36336\n",
            "Size of doc_char dict is 119\n",
            "Size of doc_token_ngram dict is 0\n",
            "Size of doc_keyword dict is 0\n",
            "Size of doc_topic dict is 0\n",
            "/usr/local/lib/python3.7/dist-packages/torch/utils/data/dataloader.py:481: UserWarning: This DataLoader will create 4 worker processes in total. Our suggested max number of worker in current system is 2, which is smaller than what this DataLoader is going to create. Please be aware that excessive worker creation might get DataLoader running slow or even freeze, lower the worker number to avoid potential slowness/freeze if necessary.\n",
            "  cpuset_checked))\n",
            "[W pthreadpool-cpp.cc:90] Warning: Leaking Caffe2 thread-pool after fork. (function pthreadpool)\n",
            "[W pthreadpool-cpp.cc:90] Warning: Leaking Caffe2 thread-pool after fork. (function pthreadpool)\n",
            "[W pthreadpool-cpp.cc:90] Warning: Leaking Caffe2 thread-pool after fork. (function pthreadpool)\n",
            "[W pthreadpool-cpp.cc:90] Warning: Leaking Caffe2 thread-pool after fork. (function pthreadpool)\n",
            "Train performance at epoch 1 is precision: 0.000000, recall: 0.000000, fscore: 0.000000, macro-fscore: 0.000000, right: 0, predict: 0, standard: 5403.\n",
            "Loss is: 0.024871.\n",
            "[W pthreadpool-cpp.cc:90] Warning: Leaking Caffe2 thread-pool after fork. (function pthreadpool)\n",
            "[W pthreadpool-cpp.cc:90] Warning: Leaking Caffe2 thread-pool after fork. (function pthreadpool)\n",
            "[W pthreadpool-cpp.cc:90] Warning: Leaking Caffe2 thread-pool after fork. (function pthreadpool)\n",
            "[W pthreadpool-cpp.cc:90] Warning: Leaking Caffe2 thread-pool after fork. (function pthreadpool)\n",
            "Validate performance at epoch 1 is precision: 0.000000, recall: 0.000000, fscore: 0.000000, macro-fscore: 0.000000, right: 0, predict: 0, standard: 602.\n",
            "Loss is: 0.025499.\n",
            "[W pthreadpool-cpp.cc:90] Warning: Leaking Caffe2 thread-pool after fork. (function pthreadpool)\n",
            "[W pthreadpool-cpp.cc:90] Warning: Leaking Caffe2 thread-pool after fork. (function pthreadpool)\n",
            "[W pthreadpool-cpp.cc:90] Warning: Leaking Caffe2 thread-pool after fork. (function pthreadpool)\n",
            "[W pthreadpool-cpp.cc:90] Warning: Leaking Caffe2 thread-pool after fork. (function pthreadpool)\n",
            "test performance at epoch 1 is precision: 0.000000, recall: 0.000000, fscore: 0.000000, macro-fscore: 0.000000, right: 0, predict: 0, standard: 602.\n",
            "Loss is: 0.025499.\n",
            "Epoch 1 cost time: 30 second\n",
            "[W pthreadpool-cpp.cc:90] Warning: Leaking Caffe2 thread-pool after fork. (function pthreadpool)\n",
            "[W pthreadpool-cpp.cc:90] Warning: Leaking Caffe2 thread-pool after fork. (function pthreadpool)\n",
            "[W pthreadpool-cpp.cc:90] Warning: Leaking Caffe2 thread-pool after fork. (function pthreadpool)\n",
            "[W pthreadpool-cpp.cc:90] Warning: Leaking Caffe2 thread-pool after fork. (function pthreadpool)\n",
            "[W pthreadpool-cpp.cc:90] Warning: Leaking Caffe2 thread-pool after fork. (function pthreadpool)\n",
            "[W pthreadpool-cpp.cc:90] Warning: Leaking Caffe2 thread-pool after fork. (function pthreadpool)\n",
            "[W pthreadpool-cpp.cc:90] Warning: Leaking Caffe2 thread-pool after fork. (function pthreadpool)\n",
            "[W pthreadpool-cpp.cc:90] Warning: Leaking Caffe2 thread-pool after fork. (function pthreadpool)\n",
            "Train performance at epoch 2 is precision: 0.943231, recall: 0.039978, fscore: 0.076705, macro-fscore: 0.001164, right: 216, predict: 229, standard: 5403.\n",
            "Loss is: 0.023921.\n",
            "[W pthreadpool-cpp.cc:90] Warning: Leaking Caffe2 thread-pool after fork. (function pthreadpool)\n",
            "[W pthreadpool-cpp.cc:90] Warning: Leaking Caffe2 thread-pool after fork. (function pthreadpool)\n",
            "[W pthreadpool-cpp.cc:90] Warning: Leaking Caffe2 thread-pool after fork. (function pthreadpool)\n",
            "[W pthreadpool-cpp.cc:90] Warning: Leaking Caffe2 thread-pool after fork. (function pthreadpool)\n",
            "Validate performance at epoch 2 is precision: 0.964286, recall: 0.044850, fscore: 0.085714, macro-fscore: 0.001013, right: 27, predict: 28, standard: 602.\n",
            "Loss is: 0.024594.\n",
            "[W pthreadpool-cpp.cc:90] Warning: Leaking Caffe2 thread-pool after fork. (function pthreadpool)\n",
            "[W pthreadpool-cpp.cc:90] Warning: Leaking Caffe2 thread-pool after fork. (function pthreadpool)\n",
            "[W pthreadpool-cpp.cc:90] Warning: Leaking Caffe2 thread-pool after fork. (function pthreadpool)\n",
            "[W pthreadpool-cpp.cc:90] Warning: Leaking Caffe2 thread-pool after fork. (function pthreadpool)\n",
            "test performance at epoch 2 is precision: 0.964286, recall: 0.044850, fscore: 0.085714, macro-fscore: 0.001013, right: 27, predict: 28, standard: 602.\n",
            "Loss is: 0.024594.\n",
            "Epoch 2 cost time: 32 second\n",
            "[W pthreadpool-cpp.cc:90] Warning: Leaking Caffe2 thread-pool after fork. (function pthreadpool)\n",
            "[W pthreadpool-cpp.cc:90] Warning: Leaking Caffe2 thread-pool after fork. (function pthreadpool)\n",
            "[W pthreadpool-cpp.cc:90] Warning: Leaking Caffe2 thread-pool after fork. (function pthreadpool)\n",
            "[W pthreadpool-cpp.cc:90] Warning: Leaking Caffe2 thread-pool after fork. (function pthreadpool)\n",
            "[W pthreadpool-cpp.cc:90] Warning: Leaking Caffe2 thread-pool after fork. (function pthreadpool)\n",
            "[W pthreadpool-cpp.cc:90] Warning: Leaking Caffe2 thread-pool after fork. (function pthreadpool)\n",
            "[W pthreadpool-cpp.cc:90] Warning: Leaking Caffe2 thread-pool after fork. (function pthreadpool)\n",
            "[W pthreadpool-cpp.cc:90] Warning: Leaking Caffe2 thread-pool after fork. (function pthreadpool)\n",
            "Train performance at epoch 3 is precision: 0.884078, recall: 0.117157, fscore: 0.206897, macro-fscore: 0.005925, right: 633, predict: 716, standard: 5403.\n",
            "Loss is: 0.021753.\n",
            "[W pthreadpool-cpp.cc:90] Warning: Leaking Caffe2 thread-pool after fork. (function pthreadpool)\n",
            "[W pthreadpool-cpp.cc:90] Warning: Leaking Caffe2 thread-pool after fork. (function pthreadpool)\n",
            "[W pthreadpool-cpp.cc:90] Warning: Leaking Caffe2 thread-pool after fork. (function pthreadpool)\n",
            "[W pthreadpool-cpp.cc:90] Warning: Leaking Caffe2 thread-pool after fork. (function pthreadpool)\n",
            "Validate performance at epoch 3 is precision: 0.903226, recall: 0.093023, fscore: 0.168675, macro-fscore: 0.004015, right: 56, predict: 62, standard: 602.\n",
            "Loss is: 0.022827.\n",
            "[W pthreadpool-cpp.cc:90] Warning: Leaking Caffe2 thread-pool after fork. (function pthreadpool)\n",
            "[W pthreadpool-cpp.cc:90] Warning: Leaking Caffe2 thread-pool after fork. (function pthreadpool)\n",
            "[W pthreadpool-cpp.cc:90] Warning: Leaking Caffe2 thread-pool after fork. (function pthreadpool)\n",
            "[W pthreadpool-cpp.cc:90] Warning: Leaking Caffe2 thread-pool after fork. (function pthreadpool)\n",
            "test performance at epoch 3 is precision: 0.903226, recall: 0.093023, fscore: 0.168675, macro-fscore: 0.004015, right: 56, predict: 62, standard: 602.\n",
            "Loss is: 0.022827.\n",
            "Epoch 3 cost time: 32 second\n",
            "[W pthreadpool-cpp.cc:90] Warning: Leaking Caffe2 thread-pool after fork. (function pthreadpool)\n",
            "[W pthreadpool-cpp.cc:90] Warning: Leaking Caffe2 thread-pool after fork. (function pthreadpool)\n",
            "[W pthreadpool-cpp.cc:90] Warning: Leaking Caffe2 thread-pool after fork. (function pthreadpool)\n",
            "[W pthreadpool-cpp.cc:90] Warning: Leaking Caffe2 thread-pool after fork. (function pthreadpool)\n",
            "[W pthreadpool-cpp.cc:90] Warning: Leaking Caffe2 thread-pool after fork. (function pthreadpool)\n",
            "[W pthreadpool-cpp.cc:90] Warning: Leaking Caffe2 thread-pool after fork. (function pthreadpool)\n",
            "[W pthreadpool-cpp.cc:90] Warning: Leaking Caffe2 thread-pool after fork. (function pthreadpool)\n",
            "[W pthreadpool-cpp.cc:90] Warning: Leaking Caffe2 thread-pool after fork. (function pthreadpool)\n",
            "Train performance at epoch 4 is precision: 0.842773, recall: 0.184527, fscore: 0.302763, macro-fscore: 0.011765, right: 997, predict: 1183, standard: 5403.\n",
            "Loss is: 0.019836.\n",
            "[W pthreadpool-cpp.cc:90] Warning: Leaking Caffe2 thread-pool after fork. (function pthreadpool)\n",
            "[W pthreadpool-cpp.cc:90] Warning: Leaking Caffe2 thread-pool after fork. (function pthreadpool)\n",
            "[W pthreadpool-cpp.cc:90] Warning: Leaking Caffe2 thread-pool after fork. (function pthreadpool)\n",
            "[W pthreadpool-cpp.cc:90] Warning: Leaking Caffe2 thread-pool after fork. (function pthreadpool)\n",
            "Validate performance at epoch 4 is precision: 0.830645, recall: 0.171096, fscore: 0.283747, macro-fscore: 0.009417, right: 103, predict: 124, standard: 602.\n",
            "Loss is: 0.021424.\n",
            "[W pthreadpool-cpp.cc:90] Warning: Leaking Caffe2 thread-pool after fork. (function pthreadpool)\n",
            "[W pthreadpool-cpp.cc:90] Warning: Leaking Caffe2 thread-pool after fork. (function pthreadpool)\n",
            "[W pthreadpool-cpp.cc:90] Warning: Leaking Caffe2 thread-pool after fork. (function pthreadpool)\n",
            "[W pthreadpool-cpp.cc:90] Warning: Leaking Caffe2 thread-pool after fork. (function pthreadpool)\n",
            "test performance at epoch 4 is precision: 0.830645, recall: 0.171096, fscore: 0.283747, macro-fscore: 0.009417, right: 103, predict: 124, standard: 602.\n",
            "Loss is: 0.021424.\n",
            "Epoch 4 cost time: 30 second\n",
            "[W pthreadpool-cpp.cc:90] Warning: Leaking Caffe2 thread-pool after fork. (function pthreadpool)\n",
            "[W pthreadpool-cpp.cc:90] Warning: Leaking Caffe2 thread-pool after fork. (function pthreadpool)\n",
            "[W pthreadpool-cpp.cc:90] Warning: Leaking Caffe2 thread-pool after fork. (function pthreadpool)\n",
            "[W pthreadpool-cpp.cc:90] Warning: Leaking Caffe2 thread-pool after fork. (function pthreadpool)\n",
            "[W pthreadpool-cpp.cc:90] Warning: Leaking Caffe2 thread-pool after fork. (function pthreadpool)\n",
            "[W pthreadpool-cpp.cc:90] Warning: Leaking Caffe2 thread-pool after fork. (function pthreadpool)\n",
            "[W pthreadpool-cpp.cc:90] Warning: Leaking Caffe2 thread-pool after fork. (function pthreadpool)\n",
            "[W pthreadpool-cpp.cc:90] Warning: Leaking Caffe2 thread-pool after fork. (function pthreadpool)\n",
            "Train performance at epoch 5 is precision: 0.886269, recall: 0.236535, fscore: 0.373411, macro-fscore: 0.020299, right: 1278, predict: 1442, standard: 5403.\n",
            "Loss is: 0.020371.\n",
            "[W pthreadpool-cpp.cc:90] Warning: Leaking Caffe2 thread-pool after fork. (function pthreadpool)\n",
            "[W pthreadpool-cpp.cc:90] Warning: Leaking Caffe2 thread-pool after fork. (function pthreadpool)\n",
            "[W pthreadpool-cpp.cc:90] Warning: Leaking Caffe2 thread-pool after fork. (function pthreadpool)\n",
            "[W pthreadpool-cpp.cc:90] Warning: Leaking Caffe2 thread-pool after fork. (function pthreadpool)\n",
            "Validate performance at epoch 5 is precision: 0.921429, recall: 0.214286, fscore: 0.347709, macro-fscore: 0.013126, right: 129, predict: 140, standard: 602.\n",
            "Loss is: 0.022302.\n",
            "[W pthreadpool-cpp.cc:90] Warning: Leaking Caffe2 thread-pool after fork. (function pthreadpool)\n",
            "[W pthreadpool-cpp.cc:90] Warning: Leaking Caffe2 thread-pool after fork. (function pthreadpool)\n",
            "[W pthreadpool-cpp.cc:90] Warning: Leaking Caffe2 thread-pool after fork. (function pthreadpool)\n",
            "[W pthreadpool-cpp.cc:90] Warning: Leaking Caffe2 thread-pool after fork. (function pthreadpool)\n",
            "test performance at epoch 5 is precision: 0.921429, recall: 0.214286, fscore: 0.347709, macro-fscore: 0.013126, right: 129, predict: 140, standard: 602.\n",
            "Loss is: 0.022302.\n",
            "Epoch 5 cost time: 32 second\n",
            "[W pthreadpool-cpp.cc:90] Warning: Leaking Caffe2 thread-pool after fork. (function pthreadpool)\n",
            "[W pthreadpool-cpp.cc:90] Warning: Leaking Caffe2 thread-pool after fork. (function pthreadpool)\n",
            "[W pthreadpool-cpp.cc:90] Warning: Leaking Caffe2 thread-pool after fork. (function pthreadpool)\n",
            "[W pthreadpool-cpp.cc:90] Warning: Leaking Caffe2 thread-pool after fork. (function pthreadpool)\n",
            "[W pthreadpool-cpp.cc:90] Warning: Leaking Caffe2 thread-pool after fork. (function pthreadpool)\n",
            "[W pthreadpool-cpp.cc:90] Warning: Leaking Caffe2 thread-pool after fork. (function pthreadpool)\n",
            "[W pthreadpool-cpp.cc:90] Warning: Leaking Caffe2 thread-pool after fork. (function pthreadpool)\n",
            "[W pthreadpool-cpp.cc:90] Warning: Leaking Caffe2 thread-pool after fork. (function pthreadpool)\n",
            "Train performance at epoch 6 is precision: 0.875216, recall: 0.281695, fscore: 0.426211, macro-fscore: 0.028683, right: 1522, predict: 1739, standard: 5403.\n",
            "Loss is: 0.016309.\n",
            "[W pthreadpool-cpp.cc:90] Warning: Leaking Caffe2 thread-pool after fork. (function pthreadpool)\n",
            "[W pthreadpool-cpp.cc:90] Warning: Leaking Caffe2 thread-pool after fork. (function pthreadpool)\n",
            "[W pthreadpool-cpp.cc:90] Warning: Leaking Caffe2 thread-pool after fork. (function pthreadpool)\n",
            "[W pthreadpool-cpp.cc:90] Warning: Leaking Caffe2 thread-pool after fork. (function pthreadpool)\n",
            "Validate performance at epoch 6 is precision: 0.869318, recall: 0.254153, fscore: 0.393316, macro-fscore: 0.015936, right: 153, predict: 176, standard: 602.\n",
            "Loss is: 0.018453.\n",
            "[W pthreadpool-cpp.cc:90] Warning: Leaking Caffe2 thread-pool after fork. (function pthreadpool)\n",
            "[W pthreadpool-cpp.cc:90] Warning: Leaking Caffe2 thread-pool after fork. (function pthreadpool)\n",
            "[W pthreadpool-cpp.cc:90] Warning: Leaking Caffe2 thread-pool after fork. (function pthreadpool)\n",
            "[W pthreadpool-cpp.cc:90] Warning: Leaking Caffe2 thread-pool after fork. (function pthreadpool)\n",
            "test performance at epoch 6 is precision: 0.869318, recall: 0.254153, fscore: 0.393316, macro-fscore: 0.015936, right: 153, predict: 176, standard: 602.\n",
            "Loss is: 0.018453.\n",
            "Epoch 6 cost time: 31 second\n",
            "[W pthreadpool-cpp.cc:90] Warning: Leaking Caffe2 thread-pool after fork. (function pthreadpool)\n",
            "[W pthreadpool-cpp.cc:90] Warning: Leaking Caffe2 thread-pool after fork. (function pthreadpool)\n",
            "[W pthreadpool-cpp.cc:90] Warning: Leaking Caffe2 thread-pool after fork. (function pthreadpool)\n",
            "[W pthreadpool-cpp.cc:90] Warning: Leaking Caffe2 thread-pool after fork. (function pthreadpool)\n",
            "[W pthreadpool-cpp.cc:90] Warning: Leaking Caffe2 thread-pool after fork. (function pthreadpool)\n",
            "[W pthreadpool-cpp.cc:90] Warning: Leaking Caffe2 thread-pool after fork. (function pthreadpool)\n",
            "[W pthreadpool-cpp.cc:90] Warning: Leaking Caffe2 thread-pool after fork. (function pthreadpool)\n",
            "[W pthreadpool-cpp.cc:90] Warning: Leaking Caffe2 thread-pool after fork. (function pthreadpool)\n",
            "Train performance at epoch 7 is precision: 0.837123, recall: 0.333889, fscore: 0.477375, macro-fscore: 0.048856, right: 1804, predict: 2155, standard: 5403.\n",
            "Loss is: 0.018164.\n",
            "[W pthreadpool-cpp.cc:90] Warning: Leaking Caffe2 thread-pool after fork. (function pthreadpool)\n",
            "[W pthreadpool-cpp.cc:90] Warning: Leaking Caffe2 thread-pool after fork. (function pthreadpool)\n",
            "[W pthreadpool-cpp.cc:90] Warning: Leaking Caffe2 thread-pool after fork. (function pthreadpool)\n",
            "[W pthreadpool-cpp.cc:90] Warning: Leaking Caffe2 thread-pool after fork. (function pthreadpool)\n",
            "Validate performance at epoch 7 is precision: 0.790909, recall: 0.289037, fscore: 0.423358, macro-fscore: 0.020370, right: 174, predict: 220, standard: 602.\n",
            "Loss is: 0.020906.\n",
            "[W pthreadpool-cpp.cc:90] Warning: Leaking Caffe2 thread-pool after fork. (function pthreadpool)\n",
            "[W pthreadpool-cpp.cc:90] Warning: Leaking Caffe2 thread-pool after fork. (function pthreadpool)\n",
            "[W pthreadpool-cpp.cc:90] Warning: Leaking Caffe2 thread-pool after fork. (function pthreadpool)\n",
            "[W pthreadpool-cpp.cc:90] Warning: Leaking Caffe2 thread-pool after fork. (function pthreadpool)\n",
            "test performance at epoch 7 is precision: 0.790909, recall: 0.289037, fscore: 0.423358, macro-fscore: 0.020370, right: 174, predict: 220, standard: 602.\n",
            "Loss is: 0.020906.\n",
            "Epoch 7 cost time: 32 second\n",
            "[W pthreadpool-cpp.cc:90] Warning: Leaking Caffe2 thread-pool after fork. (function pthreadpool)\n",
            "[W pthreadpool-cpp.cc:90] Warning: Leaking Caffe2 thread-pool after fork. (function pthreadpool)\n",
            "[W pthreadpool-cpp.cc:90] Warning: Leaking Caffe2 thread-pool after fork. (function pthreadpool)\n",
            "[W pthreadpool-cpp.cc:90] Warning: Leaking Caffe2 thread-pool after fork. (function pthreadpool)\n",
            "[W pthreadpool-cpp.cc:90] Warning: Leaking Caffe2 thread-pool after fork. (function pthreadpool)\n",
            "[W pthreadpool-cpp.cc:90] Warning: Leaking Caffe2 thread-pool after fork. (function pthreadpool)\n",
            "[W pthreadpool-cpp.cc:90] Warning: Leaking Caffe2 thread-pool after fork. (function pthreadpool)\n",
            "[W pthreadpool-cpp.cc:90] Warning: Leaking Caffe2 thread-pool after fork. (function pthreadpool)\n",
            "Train performance at epoch 8 is precision: 0.828392, recall: 0.367203, fscore: 0.508848, macro-fscore: 0.064434, right: 1984, predict: 2395, standard: 5403.\n",
            "Loss is: 0.012218.\n",
            "[W pthreadpool-cpp.cc:90] Warning: Leaking Caffe2 thread-pool after fork. (function pthreadpool)\n",
            "[W pthreadpool-cpp.cc:90] Warning: Leaking Caffe2 thread-pool after fork. (function pthreadpool)\n",
            "[W pthreadpool-cpp.cc:90] Warning: Leaking Caffe2 thread-pool after fork. (function pthreadpool)\n",
            "[W pthreadpool-cpp.cc:90] Warning: Leaking Caffe2 thread-pool after fork. (function pthreadpool)\n",
            "Validate performance at epoch 8 is precision: 0.776423, recall: 0.317276, fscore: 0.450472, macro-fscore: 0.024568, right: 191, predict: 246, standard: 602.\n",
            "Loss is: 0.014873.\n",
            "[W pthreadpool-cpp.cc:90] Warning: Leaking Caffe2 thread-pool after fork. (function pthreadpool)\n",
            "[W pthreadpool-cpp.cc:90] Warning: Leaking Caffe2 thread-pool after fork. (function pthreadpool)\n",
            "[W pthreadpool-cpp.cc:90] Warning: Leaking Caffe2 thread-pool after fork. (function pthreadpool)\n",
            "[W pthreadpool-cpp.cc:90] Warning: Leaking Caffe2 thread-pool after fork. (function pthreadpool)\n",
            "test performance at epoch 8 is precision: 0.776423, recall: 0.317276, fscore: 0.450472, macro-fscore: 0.024568, right: 191, predict: 246, standard: 602.\n",
            "Loss is: 0.014873.\n",
            "Epoch 8 cost time: 31 second\n",
            "[W pthreadpool-cpp.cc:90] Warning: Leaking Caffe2 thread-pool after fork. (function pthreadpool)\n",
            "[W pthreadpool-cpp.cc:90] Warning: Leaking Caffe2 thread-pool after fork. (function pthreadpool)\n",
            "[W pthreadpool-cpp.cc:90] Warning: Leaking Caffe2 thread-pool after fork. (function pthreadpool)\n",
            "[W pthreadpool-cpp.cc:90] Warning: Leaking Caffe2 thread-pool after fork. (function pthreadpool)\n",
            "[W pthreadpool-cpp.cc:90] Warning: Leaking Caffe2 thread-pool after fork. (function pthreadpool)\n",
            "[W pthreadpool-cpp.cc:90] Warning: Leaking Caffe2 thread-pool after fork. (function pthreadpool)\n",
            "[W pthreadpool-cpp.cc:90] Warning: Leaking Caffe2 thread-pool after fork. (function pthreadpool)\n",
            "[W pthreadpool-cpp.cc:90] Warning: Leaking Caffe2 thread-pool after fork. (function pthreadpool)\n",
            "Train performance at epoch 9 is precision: 0.786552, recall: 0.422173, fscore: 0.549440, macro-fscore: 0.099429, right: 2281, predict: 2900, standard: 5403.\n",
            "Loss is: 0.013757.\n",
            "[W pthreadpool-cpp.cc:90] Warning: Leaking Caffe2 thread-pool after fork. (function pthreadpool)\n",
            "[W pthreadpool-cpp.cc:90] Warning: Leaking Caffe2 thread-pool after fork. (function pthreadpool)\n",
            "[W pthreadpool-cpp.cc:90] Warning: Leaking Caffe2 thread-pool after fork. (function pthreadpool)\n",
            "[W pthreadpool-cpp.cc:90] Warning: Leaking Caffe2 thread-pool after fork. (function pthreadpool)\n",
            "Validate performance at epoch 9 is precision: 0.726937, recall: 0.327243, fscore: 0.451317, macro-fscore: 0.027124, right: 197, predict: 271, standard: 602.\n",
            "Loss is: 0.017221.\n",
            "[W pthreadpool-cpp.cc:90] Warning: Leaking Caffe2 thread-pool after fork. (function pthreadpool)\n",
            "[W pthreadpool-cpp.cc:90] Warning: Leaking Caffe2 thread-pool after fork. (function pthreadpool)\n",
            "[W pthreadpool-cpp.cc:90] Warning: Leaking Caffe2 thread-pool after fork. (function pthreadpool)\n",
            "[W pthreadpool-cpp.cc:90] Warning: Leaking Caffe2 thread-pool after fork. (function pthreadpool)\n",
            "test performance at epoch 9 is precision: 0.726937, recall: 0.327243, fscore: 0.451317, macro-fscore: 0.027124, right: 197, predict: 271, standard: 602.\n",
            "Loss is: 0.017221.\n",
            "Epoch 9 cost time: 32 second\n",
            "[W pthreadpool-cpp.cc:90] Warning: Leaking Caffe2 thread-pool after fork. (function pthreadpool)\n",
            "[W pthreadpool-cpp.cc:90] Warning: Leaking Caffe2 thread-pool after fork. (function pthreadpool)\n",
            "[W pthreadpool-cpp.cc:90] Warning: Leaking Caffe2 thread-pool after fork. (function pthreadpool)\n",
            "[W pthreadpool-cpp.cc:90] Warning: Leaking Caffe2 thread-pool after fork. (function pthreadpool)\n",
            "[W pthreadpool-cpp.cc:90] Warning: Leaking Caffe2 thread-pool after fork. (function pthreadpool)\n",
            "[W pthreadpool-cpp.cc:90] Warning: Leaking Caffe2 thread-pool after fork. (function pthreadpool)\n",
            "[W pthreadpool-cpp.cc:90] Warning: Leaking Caffe2 thread-pool after fork. (function pthreadpool)\n",
            "[W pthreadpool-cpp.cc:90] Warning: Leaking Caffe2 thread-pool after fork. (function pthreadpool)\n",
            "Train performance at epoch 10 is precision: 0.829179, recall: 0.461780, fscore: 0.593200, macro-fscore: 0.137285, right: 2495, predict: 3009, standard: 5403.\n",
            "Loss is: 0.011119.\n",
            "[W pthreadpool-cpp.cc:90] Warning: Leaking Caffe2 thread-pool after fork. (function pthreadpool)\n",
            "[W pthreadpool-cpp.cc:90] Warning: Leaking Caffe2 thread-pool after fork. (function pthreadpool)\n",
            "[W pthreadpool-cpp.cc:90] Warning: Leaking Caffe2 thread-pool after fork. (function pthreadpool)\n",
            "[W pthreadpool-cpp.cc:90] Warning: Leaking Caffe2 thread-pool after fork. (function pthreadpool)\n",
            "Validate performance at epoch 10 is precision: 0.742958, recall: 0.350498, fscore: 0.476298, macro-fscore: 0.031496, right: 211, predict: 284, standard: 602.\n",
            "Loss is: 0.014467.\n",
            "[W pthreadpool-cpp.cc:90] Warning: Leaking Caffe2 thread-pool after fork. (function pthreadpool)\n",
            "[W pthreadpool-cpp.cc:90] Warning: Leaking Caffe2 thread-pool after fork. (function pthreadpool)\n",
            "[W pthreadpool-cpp.cc:90] Warning: Leaking Caffe2 thread-pool after fork. (function pthreadpool)\n",
            "[W pthreadpool-cpp.cc:90] Warning: Leaking Caffe2 thread-pool after fork. (function pthreadpool)\n",
            "test performance at epoch 10 is precision: 0.742958, recall: 0.350498, fscore: 0.476298, macro-fscore: 0.031496, right: 211, predict: 284, standard: 602.\n",
            "Loss is: 0.014467.\n",
            "Epoch 10 cost time: 32 second\n",
            "[W pthreadpool-cpp.cc:90] Warning: Leaking Caffe2 thread-pool after fork. (function pthreadpool)\n",
            "[W pthreadpool-cpp.cc:90] Warning: Leaking Caffe2 thread-pool after fork. (function pthreadpool)\n",
            "[W pthreadpool-cpp.cc:90] Warning: Leaking Caffe2 thread-pool after fork. (function pthreadpool)\n",
            "[W pthreadpool-cpp.cc:90] Warning: Leaking Caffe2 thread-pool after fork. (function pthreadpool)\n",
            "[W pthreadpool-cpp.cc:90] Warning: Leaking Caffe2 thread-pool after fork. (function pthreadpool)\n",
            "[W pthreadpool-cpp.cc:90] Warning: Leaking Caffe2 thread-pool after fork. (function pthreadpool)\n",
            "[W pthreadpool-cpp.cc:90] Warning: Leaking Caffe2 thread-pool after fork. (function pthreadpool)\n",
            "[W pthreadpool-cpp.cc:90] Warning: Leaking Caffe2 thread-pool after fork. (function pthreadpool)\n",
            "Train performance at epoch 11 is precision: 0.751507, recall: 0.507681, fscore: 0.605987, macro-fscore: 0.167265, right: 2743, predict: 3650, standard: 5403.\n",
            "Loss is: 0.010646.\n",
            "[W pthreadpool-cpp.cc:90] Warning: Leaking Caffe2 thread-pool after fork. (function pthreadpool)\n",
            "[W pthreadpool-cpp.cc:90] Warning: Leaking Caffe2 thread-pool after fork. (function pthreadpool)\n",
            "[W pthreadpool-cpp.cc:90] Warning: Leaking Caffe2 thread-pool after fork. (function pthreadpool)\n",
            "[W pthreadpool-cpp.cc:90] Warning: Leaking Caffe2 thread-pool after fork. (function pthreadpool)\n",
            "Validate performance at epoch 11 is precision: 0.666667, recall: 0.378738, fscore: 0.483051, macro-fscore: 0.034947, right: 228, predict: 342, standard: 602.\n",
            "Loss is: 0.014283.\n",
            "[W pthreadpool-cpp.cc:90] Warning: Leaking Caffe2 thread-pool after fork. (function pthreadpool)\n",
            "[W pthreadpool-cpp.cc:90] Warning: Leaking Caffe2 thread-pool after fork. (function pthreadpool)\n",
            "[W pthreadpool-cpp.cc:90] Warning: Leaking Caffe2 thread-pool after fork. (function pthreadpool)\n",
            "[W pthreadpool-cpp.cc:90] Warning: Leaking Caffe2 thread-pool after fork. (function pthreadpool)\n",
            "test performance at epoch 11 is precision: 0.666667, recall: 0.378738, fscore: 0.483051, macro-fscore: 0.034947, right: 228, predict: 342, standard: 602.\n",
            "Loss is: 0.014283.\n",
            "Epoch 11 cost time: 33 second\n",
            "[W pthreadpool-cpp.cc:90] Warning: Leaking Caffe2 thread-pool after fork. (function pthreadpool)\n",
            "[W pthreadpool-cpp.cc:90] Warning: Leaking Caffe2 thread-pool after fork. (function pthreadpool)\n",
            "[W pthreadpool-cpp.cc:90] Warning: Leaking Caffe2 thread-pool after fork. (function pthreadpool)\n",
            "[W pthreadpool-cpp.cc:90] Warning: Leaking Caffe2 thread-pool after fork. (function pthreadpool)\n",
            "[W pthreadpool-cpp.cc:90] Warning: Leaking Caffe2 thread-pool after fork. (function pthreadpool)\n",
            "[W pthreadpool-cpp.cc:90] Warning: Leaking Caffe2 thread-pool after fork. (function pthreadpool)\n",
            "[W pthreadpool-cpp.cc:90] Warning: Leaking Caffe2 thread-pool after fork. (function pthreadpool)\n",
            "[W pthreadpool-cpp.cc:90] Warning: Leaking Caffe2 thread-pool after fork. (function pthreadpool)\n",
            "Train performance at epoch 12 is precision: 0.821199, recall: 0.544882, fscore: 0.655096, macro-fscore: 0.207717, right: 2944, predict: 3585, standard: 5403.\n",
            "Loss is: 0.009945.\n",
            "[W pthreadpool-cpp.cc:90] Warning: Leaking Caffe2 thread-pool after fork. (function pthreadpool)\n",
            "[W pthreadpool-cpp.cc:90] Warning: Leaking Caffe2 thread-pool after fork. (function pthreadpool)\n",
            "[W pthreadpool-cpp.cc:90] Warning: Leaking Caffe2 thread-pool after fork. (function pthreadpool)\n",
            "[W pthreadpool-cpp.cc:90] Warning: Leaking Caffe2 thread-pool after fork. (function pthreadpool)\n",
            "Validate performance at epoch 12 is precision: 0.729560, recall: 0.385382, fscore: 0.504348, macro-fscore: 0.036375, right: 232, predict: 318, standard: 602.\n",
            "Loss is: 0.013799.\n",
            "[W pthreadpool-cpp.cc:90] Warning: Leaking Caffe2 thread-pool after fork. (function pthreadpool)\n",
            "[W pthreadpool-cpp.cc:90] Warning: Leaking Caffe2 thread-pool after fork. (function pthreadpool)\n",
            "[W pthreadpool-cpp.cc:90] Warning: Leaking Caffe2 thread-pool after fork. (function pthreadpool)\n",
            "[W pthreadpool-cpp.cc:90] Warning: Leaking Caffe2 thread-pool after fork. (function pthreadpool)\n",
            "test performance at epoch 12 is precision: 0.729560, recall: 0.385382, fscore: 0.504348, macro-fscore: 0.036375, right: 232, predict: 318, standard: 602.\n",
            "Loss is: 0.013799.\n",
            "Epoch 12 cost time: 33 second\n",
            "[W pthreadpool-cpp.cc:90] Warning: Leaking Caffe2 thread-pool after fork. (function pthreadpool)\n",
            "[W pthreadpool-cpp.cc:90] Warning: Leaking Caffe2 thread-pool after fork. (function pthreadpool)\n",
            "[W pthreadpool-cpp.cc:90] Warning: Leaking Caffe2 thread-pool after fork. (function pthreadpool)\n",
            "[W pthreadpool-cpp.cc:90] Warning: Leaking Caffe2 thread-pool after fork. (function pthreadpool)\n",
            "[W pthreadpool-cpp.cc:90] Warning: Leaking Caffe2 thread-pool after fork. (function pthreadpool)\n",
            "[W pthreadpool-cpp.cc:90] Warning: Leaking Caffe2 thread-pool after fork. (function pthreadpool)\n",
            "[W pthreadpool-cpp.cc:90] Warning: Leaking Caffe2 thread-pool after fork. (function pthreadpool)\n",
            "[W pthreadpool-cpp.cc:90] Warning: Leaking Caffe2 thread-pool after fork. (function pthreadpool)\n",
            "Train performance at epoch 13 is precision: 0.769156, recall: 0.588932, fscore: 0.667086, macro-fscore: 0.265342, right: 3182, predict: 4137, standard: 5403.\n",
            "Loss is: 0.008970.\n",
            "[W pthreadpool-cpp.cc:90] Warning: Leaking Caffe2 thread-pool after fork. (function pthreadpool)\n",
            "[W pthreadpool-cpp.cc:90] Warning: Leaking Caffe2 thread-pool after fork. (function pthreadpool)\n",
            "[W pthreadpool-cpp.cc:90] Warning: Leaking Caffe2 thread-pool after fork. (function pthreadpool)\n",
            "[W pthreadpool-cpp.cc:90] Warning: Leaking Caffe2 thread-pool after fork. (function pthreadpool)\n",
            "Validate performance at epoch 13 is precision: 0.631016, recall: 0.392027, fscore: 0.483607, macro-fscore: 0.037522, right: 236, predict: 374, standard: 602.\n",
            "Loss is: 0.013000.\n",
            "[W pthreadpool-cpp.cc:90] Warning: Leaking Caffe2 thread-pool after fork. (function pthreadpool)\n",
            "[W pthreadpool-cpp.cc:90] Warning: Leaking Caffe2 thread-pool after fork. (function pthreadpool)\n",
            "[W pthreadpool-cpp.cc:90] Warning: Leaking Caffe2 thread-pool after fork. (function pthreadpool)\n",
            "[W pthreadpool-cpp.cc:90] Warning: Leaking Caffe2 thread-pool after fork. (function pthreadpool)\n",
            "test performance at epoch 13 is precision: 0.631016, recall: 0.392027, fscore: 0.483607, macro-fscore: 0.037522, right: 236, predict: 374, standard: 602.\n",
            "Loss is: 0.013000.\n",
            "Epoch 13 cost time: 32 second\n",
            "[W pthreadpool-cpp.cc:90] Warning: Leaking Caffe2 thread-pool after fork. (function pthreadpool)\n",
            "[W pthreadpool-cpp.cc:90] Warning: Leaking Caffe2 thread-pool after fork. (function pthreadpool)\n",
            "[W pthreadpool-cpp.cc:90] Warning: Leaking Caffe2 thread-pool after fork. (function pthreadpool)\n",
            "[W pthreadpool-cpp.cc:90] Warning: Leaking Caffe2 thread-pool after fork. (function pthreadpool)\n",
            "[W pthreadpool-cpp.cc:90] Warning: Leaking Caffe2 thread-pool after fork. (function pthreadpool)\n",
            "[W pthreadpool-cpp.cc:90] Warning: Leaking Caffe2 thread-pool after fork. (function pthreadpool)\n",
            "[W pthreadpool-cpp.cc:90] Warning: Leaking Caffe2 thread-pool after fork. (function pthreadpool)\n",
            "[W pthreadpool-cpp.cc:90] Warning: Leaking Caffe2 thread-pool after fork. (function pthreadpool)\n",
            "Train performance at epoch 14 is precision: 0.821152, recall: 0.627984, fscore: 0.711694, macro-fscore: 0.325205, right: 3393, predict: 4132, standard: 5403.\n",
            "Loss is: 0.008326.\n",
            "[W pthreadpool-cpp.cc:90] Warning: Leaking Caffe2 thread-pool after fork. (function pthreadpool)\n",
            "[W pthreadpool-cpp.cc:90] Warning: Leaking Caffe2 thread-pool after fork. (function pthreadpool)\n",
            "[W pthreadpool-cpp.cc:90] Warning: Leaking Caffe2 thread-pool after fork. (function pthreadpool)\n",
            "[W pthreadpool-cpp.cc:90] Warning: Leaking Caffe2 thread-pool after fork. (function pthreadpool)\n",
            "Validate performance at epoch 14 is precision: 0.648148, recall: 0.406977, fscore: 0.500000, macro-fscore: 0.039229, right: 245, predict: 378, standard: 602.\n",
            "Loss is: 0.012550.\n",
            "[W pthreadpool-cpp.cc:90] Warning: Leaking Caffe2 thread-pool after fork. (function pthreadpool)\n",
            "[W pthreadpool-cpp.cc:90] Warning: Leaking Caffe2 thread-pool after fork. (function pthreadpool)\n",
            "[W pthreadpool-cpp.cc:90] Warning: Leaking Caffe2 thread-pool after fork. (function pthreadpool)\n",
            "[W pthreadpool-cpp.cc:90] Warning: Leaking Caffe2 thread-pool after fork. (function pthreadpool)\n",
            "test performance at epoch 14 is precision: 0.648148, recall: 0.406977, fscore: 0.500000, macro-fscore: 0.039229, right: 245, predict: 378, standard: 602.\n",
            "Loss is: 0.012550.\n",
            "Epoch 14 cost time: 33 second\n",
            "[W pthreadpool-cpp.cc:90] Warning: Leaking Caffe2 thread-pool after fork. (function pthreadpool)\n",
            "[W pthreadpool-cpp.cc:90] Warning: Leaking Caffe2 thread-pool after fork. (function pthreadpool)\n",
            "[W pthreadpool-cpp.cc:90] Warning: Leaking Caffe2 thread-pool after fork. (function pthreadpool)\n",
            "[W pthreadpool-cpp.cc:90] Warning: Leaking Caffe2 thread-pool after fork. (function pthreadpool)\n",
            "[W pthreadpool-cpp.cc:90] Warning: Leaking Caffe2 thread-pool after fork. (function pthreadpool)\n",
            "[W pthreadpool-cpp.cc:90] Warning: Leaking Caffe2 thread-pool after fork. (function pthreadpool)\n",
            "[W pthreadpool-cpp.cc:90] Warning: Leaking Caffe2 thread-pool after fork. (function pthreadpool)\n",
            "[W pthreadpool-cpp.cc:90] Warning: Leaking Caffe2 thread-pool after fork. (function pthreadpool)\n",
            "Train performance at epoch 15 is precision: 0.808361, recall: 0.679993, fscore: 0.738641, macro-fscore: 0.391310, right: 3674, predict: 4545, standard: 5403.\n",
            "Loss is: 0.008464.\n",
            "[W pthreadpool-cpp.cc:90] Warning: Leaking Caffe2 thread-pool after fork. (function pthreadpool)\n",
            "[W pthreadpool-cpp.cc:90] Warning: Leaking Caffe2 thread-pool after fork. (function pthreadpool)\n",
            "[W pthreadpool-cpp.cc:90] Warning: Leaking Caffe2 thread-pool after fork. (function pthreadpool)\n",
            "[W pthreadpool-cpp.cc:90] Warning: Leaking Caffe2 thread-pool after fork. (function pthreadpool)\n",
            "Validate performance at epoch 15 is precision: 0.603448, recall: 0.406977, fscore: 0.486111, macro-fscore: 0.040251, right: 245, predict: 406, standard: 602.\n",
            "Loss is: 0.012978.\n",
            "[W pthreadpool-cpp.cc:90] Warning: Leaking Caffe2 thread-pool after fork. (function pthreadpool)\n",
            "[W pthreadpool-cpp.cc:90] Warning: Leaking Caffe2 thread-pool after fork. (function pthreadpool)\n",
            "[W pthreadpool-cpp.cc:90] Warning: Leaking Caffe2 thread-pool after fork. (function pthreadpool)\n",
            "[W pthreadpool-cpp.cc:90] Warning: Leaking Caffe2 thread-pool after fork. (function pthreadpool)\n",
            "test performance at epoch 15 is precision: 0.603448, recall: 0.406977, fscore: 0.486111, macro-fscore: 0.040251, right: 245, predict: 406, standard: 602.\n",
            "Loss is: 0.012978.\n",
            "Epoch 15 cost time: 32 second\n",
            "[W pthreadpool-cpp.cc:90] Warning: Leaking Caffe2 thread-pool after fork. (function pthreadpool)\n",
            "[W pthreadpool-cpp.cc:90] Warning: Leaking Caffe2 thread-pool after fork. (function pthreadpool)\n",
            "[W pthreadpool-cpp.cc:90] Warning: Leaking Caffe2 thread-pool after fork. (function pthreadpool)\n",
            "[W pthreadpool-cpp.cc:90] Warning: Leaking Caffe2 thread-pool after fork. (function pthreadpool)\n",
            "[W pthreadpool-cpp.cc:90] Warning: Leaking Caffe2 thread-pool after fork. (function pthreadpool)\n",
            "[W pthreadpool-cpp.cc:90] Warning: Leaking Caffe2 thread-pool after fork. (function pthreadpool)\n",
            "[W pthreadpool-cpp.cc:90] Warning: Leaking Caffe2 thread-pool after fork. (function pthreadpool)\n",
            "[W pthreadpool-cpp.cc:90] Warning: Leaking Caffe2 thread-pool after fork. (function pthreadpool)\n",
            "Train performance at epoch 16 is precision: 0.839789, recall: 0.678142, fscore: 0.750358, macro-fscore: 0.402494, right: 3664, predict: 4363, standard: 5403.\n",
            "Loss is: 0.006239.\n",
            "[W pthreadpool-cpp.cc:90] Warning: Leaking Caffe2 thread-pool after fork. (function pthreadpool)\n",
            "[W pthreadpool-cpp.cc:90] Warning: Leaking Caffe2 thread-pool after fork. (function pthreadpool)\n",
            "[W pthreadpool-cpp.cc:90] Warning: Leaking Caffe2 thread-pool after fork. (function pthreadpool)\n",
            "[W pthreadpool-cpp.cc:90] Warning: Leaking Caffe2 thread-pool after fork. (function pthreadpool)\n",
            "Validate performance at epoch 16 is precision: 0.676796, recall: 0.406977, fscore: 0.508299, macro-fscore: 0.039133, right: 245, predict: 362, standard: 602.\n",
            "Loss is: 0.009889.\n",
            "[W pthreadpool-cpp.cc:90] Warning: Leaking Caffe2 thread-pool after fork. (function pthreadpool)\n",
            "[W pthreadpool-cpp.cc:90] Warning: Leaking Caffe2 thread-pool after fork. (function pthreadpool)\n",
            "[W pthreadpool-cpp.cc:90] Warning: Leaking Caffe2 thread-pool after fork. (function pthreadpool)\n",
            "[W pthreadpool-cpp.cc:90] Warning: Leaking Caffe2 thread-pool after fork. (function pthreadpool)\n",
            "test performance at epoch 16 is precision: 0.676796, recall: 0.406977, fscore: 0.508299, macro-fscore: 0.039133, right: 245, predict: 362, standard: 602.\n",
            "Loss is: 0.009889.\n",
            "Epoch 16 cost time: 33 second\n",
            "[W pthreadpool-cpp.cc:90] Warning: Leaking Caffe2 thread-pool after fork. (function pthreadpool)\n",
            "[W pthreadpool-cpp.cc:90] Warning: Leaking Caffe2 thread-pool after fork. (function pthreadpool)\n",
            "[W pthreadpool-cpp.cc:90] Warning: Leaking Caffe2 thread-pool after fork. (function pthreadpool)\n",
            "[W pthreadpool-cpp.cc:90] Warning: Leaking Caffe2 thread-pool after fork. (function pthreadpool)\n",
            "[W pthreadpool-cpp.cc:90] Warning: Leaking Caffe2 thread-pool after fork. (function pthreadpool)\n",
            "[W pthreadpool-cpp.cc:90] Warning: Leaking Caffe2 thread-pool after fork. (function pthreadpool)\n",
            "[W pthreadpool-cpp.cc:90] Warning: Leaking Caffe2 thread-pool after fork. (function pthreadpool)\n",
            "[W pthreadpool-cpp.cc:90] Warning: Leaking Caffe2 thread-pool after fork. (function pthreadpool)\n",
            "Train performance at epoch 17 is precision: 0.772438, recall: 0.740700, fscore: 0.756236, macro-fscore: 0.495281, right: 4002, predict: 5181, standard: 5403.\n",
            "Loss is: 0.007093.\n",
            "[W pthreadpool-cpp.cc:90] Warning: Leaking Caffe2 thread-pool after fork. (function pthreadpool)\n",
            "[W pthreadpool-cpp.cc:90] Warning: Leaking Caffe2 thread-pool after fork. (function pthreadpool)\n",
            "[W pthreadpool-cpp.cc:90] Warning: Leaking Caffe2 thread-pool after fork. (function pthreadpool)\n",
            "[W pthreadpool-cpp.cc:90] Warning: Leaking Caffe2 thread-pool after fork. (function pthreadpool)\n",
            "Validate performance at epoch 17 is precision: 0.552573, recall: 0.410299, fscore: 0.470925, macro-fscore: 0.040779, right: 247, predict: 447, standard: 602.\n",
            "Loss is: 0.011503.\n",
            "[W pthreadpool-cpp.cc:90] Warning: Leaking Caffe2 thread-pool after fork. (function pthreadpool)\n",
            "[W pthreadpool-cpp.cc:90] Warning: Leaking Caffe2 thread-pool after fork. (function pthreadpool)\n",
            "[W pthreadpool-cpp.cc:90] Warning: Leaking Caffe2 thread-pool after fork. (function pthreadpool)\n",
            "[W pthreadpool-cpp.cc:90] Warning: Leaking Caffe2 thread-pool after fork. (function pthreadpool)\n",
            "test performance at epoch 17 is precision: 0.552573, recall: 0.410299, fscore: 0.470925, macro-fscore: 0.040779, right: 247, predict: 447, standard: 602.\n",
            "Loss is: 0.011503.\n",
            "Epoch 17 cost time: 32 second\n",
            "[W pthreadpool-cpp.cc:90] Warning: Leaking Caffe2 thread-pool after fork. (function pthreadpool)\n",
            "[W pthreadpool-cpp.cc:90] Warning: Leaking Caffe2 thread-pool after fork. (function pthreadpool)\n",
            "[W pthreadpool-cpp.cc:90] Warning: Leaking Caffe2 thread-pool after fork. (function pthreadpool)\n",
            "[W pthreadpool-cpp.cc:90] Warning: Leaking Caffe2 thread-pool after fork. (function pthreadpool)\n",
            "[W pthreadpool-cpp.cc:90] Warning: Leaking Caffe2 thread-pool after fork. (function pthreadpool)\n",
            "[W pthreadpool-cpp.cc:90] Warning: Leaking Caffe2 thread-pool after fork. (function pthreadpool)\n",
            "[W pthreadpool-cpp.cc:90] Warning: Leaking Caffe2 thread-pool after fork. (function pthreadpool)\n",
            "[W pthreadpool-cpp.cc:90] Warning: Leaking Caffe2 thread-pool after fork. (function pthreadpool)\n",
            "Train performance at epoch 18 is precision: 0.827558, recall: 0.751434, fscore: 0.787661, macro-fscore: 0.530243, right: 4060, predict: 4906, standard: 5403.\n",
            "Loss is: 0.005804.\n",
            "[W pthreadpool-cpp.cc:90] Warning: Leaking Caffe2 thread-pool after fork. (function pthreadpool)\n",
            "[W pthreadpool-cpp.cc:90] Warning: Leaking Caffe2 thread-pool after fork. (function pthreadpool)\n",
            "[W pthreadpool-cpp.cc:90] Warning: Leaking Caffe2 thread-pool after fork. (function pthreadpool)\n",
            "[W pthreadpool-cpp.cc:90] Warning: Leaking Caffe2 thread-pool after fork. (function pthreadpool)\n",
            "Validate performance at epoch 18 is precision: 0.601942, recall: 0.411960, fscore: 0.489152, macro-fscore: 0.041757, right: 248, predict: 412, standard: 602.\n",
            "Loss is: 0.009852.\n",
            "[W pthreadpool-cpp.cc:90] Warning: Leaking Caffe2 thread-pool after fork. (function pthreadpool)\n",
            "[W pthreadpool-cpp.cc:90] Warning: Leaking Caffe2 thread-pool after fork. (function pthreadpool)\n",
            "[W pthreadpool-cpp.cc:90] Warning: Leaking Caffe2 thread-pool after fork. (function pthreadpool)\n",
            "[W pthreadpool-cpp.cc:90] Warning: Leaking Caffe2 thread-pool after fork. (function pthreadpool)\n",
            "test performance at epoch 18 is precision: 0.601942, recall: 0.411960, fscore: 0.489152, macro-fscore: 0.041757, right: 248, predict: 412, standard: 602.\n",
            "Loss is: 0.009852.\n",
            "Epoch 18 cost time: 33 second\n",
            "[W pthreadpool-cpp.cc:90] Warning: Leaking Caffe2 thread-pool after fork. (function pthreadpool)\n",
            "[W pthreadpool-cpp.cc:90] Warning: Leaking Caffe2 thread-pool after fork. (function pthreadpool)\n",
            "[W pthreadpool-cpp.cc:90] Warning: Leaking Caffe2 thread-pool after fork. (function pthreadpool)\n",
            "[W pthreadpool-cpp.cc:90] Warning: Leaking Caffe2 thread-pool after fork. (function pthreadpool)\n",
            "[W pthreadpool-cpp.cc:90] Warning: Leaking Caffe2 thread-pool after fork. (function pthreadpool)\n",
            "[W pthreadpool-cpp.cc:90] Warning: Leaking Caffe2 thread-pool after fork. (function pthreadpool)\n",
            "[W pthreadpool-cpp.cc:90] Warning: Leaking Caffe2 thread-pool after fork. (function pthreadpool)\n",
            "[W pthreadpool-cpp.cc:90] Warning: Leaking Caffe2 thread-pool after fork. (function pthreadpool)\n",
            "Train performance at epoch 19 is precision: 0.782640, recall: 0.807699, fscore: 0.794972, macro-fscore: 0.605074, right: 4364, predict: 5576, standard: 5403.\n",
            "Loss is: 0.006116.\n",
            "[W pthreadpool-cpp.cc:90] Warning: Leaking Caffe2 thread-pool after fork. (function pthreadpool)\n",
            "[W pthreadpool-cpp.cc:90] Warning: Leaking Caffe2 thread-pool after fork. (function pthreadpool)\n",
            "[W pthreadpool-cpp.cc:90] Warning: Leaking Caffe2 thread-pool after fork. (function pthreadpool)\n",
            "[W pthreadpool-cpp.cc:90] Warning: Leaking Caffe2 thread-pool after fork. (function pthreadpool)\n",
            "Validate performance at epoch 19 is precision: 0.496226, recall: 0.436877, fscore: 0.464664, macro-fscore: 0.044912, right: 263, predict: 530, standard: 602.\n",
            "Loss is: 0.010616.\n",
            "[W pthreadpool-cpp.cc:90] Warning: Leaking Caffe2 thread-pool after fork. (function pthreadpool)\n",
            "[W pthreadpool-cpp.cc:90] Warning: Leaking Caffe2 thread-pool after fork. (function pthreadpool)\n",
            "[W pthreadpool-cpp.cc:90] Warning: Leaking Caffe2 thread-pool after fork. (function pthreadpool)\n",
            "[W pthreadpool-cpp.cc:90] Warning: Leaking Caffe2 thread-pool after fork. (function pthreadpool)\n",
            "test performance at epoch 19 is precision: 0.496226, recall: 0.436877, fscore: 0.464664, macro-fscore: 0.044912, right: 263, predict: 530, standard: 602.\n",
            "Loss is: 0.010616.\n",
            "Epoch 19 cost time: 33 second\n",
            "[W pthreadpool-cpp.cc:90] Warning: Leaking Caffe2 thread-pool after fork. (function pthreadpool)\n",
            "[W pthreadpool-cpp.cc:90] Warning: Leaking Caffe2 thread-pool after fork. (function pthreadpool)\n",
            "[W pthreadpool-cpp.cc:90] Warning: Leaking Caffe2 thread-pool after fork. (function pthreadpool)\n",
            "[W pthreadpool-cpp.cc:90] Warning: Leaking Caffe2 thread-pool after fork. (function pthreadpool)\n",
            "[W pthreadpool-cpp.cc:90] Warning: Leaking Caffe2 thread-pool after fork. (function pthreadpool)\n",
            "[W pthreadpool-cpp.cc:90] Warning: Leaking Caffe2 thread-pool after fork. (function pthreadpool)\n",
            "[W pthreadpool-cpp.cc:90] Warning: Leaking Caffe2 thread-pool after fork. (function pthreadpool)\n",
            "[W pthreadpool-cpp.cc:90] Warning: Leaking Caffe2 thread-pool after fork. (function pthreadpool)\n",
            "Train performance at epoch 20 is precision: 0.810600, recall: 0.809550, fscore: 0.810075, macro-fscore: 0.611777, right: 4374, predict: 5396, standard: 5403.\n",
            "Loss is: 0.005530.\n",
            "[W pthreadpool-cpp.cc:90] Warning: Leaking Caffe2 thread-pool after fork. (function pthreadpool)\n",
            "[W pthreadpool-cpp.cc:90] Warning: Leaking Caffe2 thread-pool after fork. (function pthreadpool)\n",
            "[W pthreadpool-cpp.cc:90] Warning: Leaking Caffe2 thread-pool after fork. (function pthreadpool)\n",
            "[W pthreadpool-cpp.cc:90] Warning: Leaking Caffe2 thread-pool after fork. (function pthreadpool)\n",
            "Validate performance at epoch 20 is precision: 0.582090, recall: 0.453488, fscore: 0.509804, macro-fscore: 0.047608, right: 273, predict: 469, standard: 602.\n",
            "Loss is: 0.009348.\n",
            "[W pthreadpool-cpp.cc:90] Warning: Leaking Caffe2 thread-pool after fork. (function pthreadpool)\n",
            "[W pthreadpool-cpp.cc:90] Warning: Leaking Caffe2 thread-pool after fork. (function pthreadpool)\n",
            "[W pthreadpool-cpp.cc:90] Warning: Leaking Caffe2 thread-pool after fork. (function pthreadpool)\n",
            "[W pthreadpool-cpp.cc:90] Warning: Leaking Caffe2 thread-pool after fork. (function pthreadpool)\n",
            "test performance at epoch 20 is precision: 0.582090, recall: 0.453488, fscore: 0.509804, macro-fscore: 0.047608, right: 273, predict: 469, standard: 602.\n",
            "Loss is: 0.009348.\n",
            "Epoch 20 cost time: 34 second\n",
            "[W pthreadpool-cpp.cc:90] Warning: Leaking Caffe2 thread-pool after fork. (function pthreadpool)\n",
            "[W pthreadpool-cpp.cc:90] Warning: Leaking Caffe2 thread-pool after fork. (function pthreadpool)\n",
            "[W pthreadpool-cpp.cc:90] Warning: Leaking Caffe2 thread-pool after fork. (function pthreadpool)\n",
            "[W pthreadpool-cpp.cc:90] Warning: Leaking Caffe2 thread-pool after fork. (function pthreadpool)\n",
            "[W pthreadpool-cpp.cc:90] Warning: Leaking Caffe2 thread-pool after fork. (function pthreadpool)\n",
            "[W pthreadpool-cpp.cc:90] Warning: Leaking Caffe2 thread-pool after fork. (function pthreadpool)\n",
            "[W pthreadpool-cpp.cc:90] Warning: Leaking Caffe2 thread-pool after fork. (function pthreadpool)\n",
            "[W pthreadpool-cpp.cc:90] Warning: Leaking Caffe2 thread-pool after fork. (function pthreadpool)\n",
            "Train performance at epoch 21 is precision: 0.879352, recall: 0.803998, fscore: 0.839988, macro-fscore: 0.636822, right: 4344, predict: 4940, standard: 5403.\n",
            "Loss is: 0.004131.\n",
            "[W pthreadpool-cpp.cc:90] Warning: Leaking Caffe2 thread-pool after fork. (function pthreadpool)\n",
            "[W pthreadpool-cpp.cc:90] Warning: Leaking Caffe2 thread-pool after fork. (function pthreadpool)\n",
            "[W pthreadpool-cpp.cc:90] Warning: Leaking Caffe2 thread-pool after fork. (function pthreadpool)\n",
            "[W pthreadpool-cpp.cc:90] Warning: Leaking Caffe2 thread-pool after fork. (function pthreadpool)\n",
            "Validate performance at epoch 21 is precision: 0.578704, recall: 0.415282, fscore: 0.483559, macro-fscore: 0.042553, right: 250, predict: 432, standard: 602.\n",
            "Loss is: 0.007683.\n",
            "[W pthreadpool-cpp.cc:90] Warning: Leaking Caffe2 thread-pool after fork. (function pthreadpool)\n",
            "[W pthreadpool-cpp.cc:90] Warning: Leaking Caffe2 thread-pool after fork. (function pthreadpool)\n",
            "[W pthreadpool-cpp.cc:90] Warning: Leaking Caffe2 thread-pool after fork. (function pthreadpool)\n",
            "[W pthreadpool-cpp.cc:90] Warning: Leaking Caffe2 thread-pool after fork. (function pthreadpool)\n",
            "test performance at epoch 21 is precision: 0.578704, recall: 0.415282, fscore: 0.483559, macro-fscore: 0.042553, right: 250, predict: 432, standard: 602.\n",
            "Loss is: 0.007683.\n",
            "Epoch 21 cost time: 33 second\n",
            "[W pthreadpool-cpp.cc:90] Warning: Leaking Caffe2 thread-pool after fork. (function pthreadpool)\n",
            "[W pthreadpool-cpp.cc:90] Warning: Leaking Caffe2 thread-pool after fork. (function pthreadpool)\n",
            "[W pthreadpool-cpp.cc:90] Warning: Leaking Caffe2 thread-pool after fork. (function pthreadpool)\n",
            "[W pthreadpool-cpp.cc:90] Warning: Leaking Caffe2 thread-pool after fork. (function pthreadpool)\n",
            "[W pthreadpool-cpp.cc:90] Warning: Leaking Caffe2 thread-pool after fork. (function pthreadpool)\n",
            "[W pthreadpool-cpp.cc:90] Warning: Leaking Caffe2 thread-pool after fork. (function pthreadpool)\n",
            "[W pthreadpool-cpp.cc:90] Warning: Leaking Caffe2 thread-pool after fork. (function pthreadpool)\n",
            "[W pthreadpool-cpp.cc:90] Warning: Leaking Caffe2 thread-pool after fork. (function pthreadpool)\n",
            "Train performance at epoch 22 is precision: 0.862310, recall: 0.820655, fscore: 0.840967, macro-fscore: 0.650207, right: 4434, predict: 5142, standard: 5403.\n",
            "Loss is: 0.003745.\n",
            "[W pthreadpool-cpp.cc:90] Warning: Leaking Caffe2 thread-pool after fork. (function pthreadpool)\n",
            "[W pthreadpool-cpp.cc:90] Warning: Leaking Caffe2 thread-pool after fork. (function pthreadpool)\n",
            "[W pthreadpool-cpp.cc:90] Warning: Leaking Caffe2 thread-pool after fork. (function pthreadpool)\n",
            "[W pthreadpool-cpp.cc:90] Warning: Leaking Caffe2 thread-pool after fork. (function pthreadpool)\n",
            "Validate performance at epoch 22 is precision: 0.630807, recall: 0.428571, fscore: 0.510386, macro-fscore: 0.044872, right: 258, predict: 409, standard: 602.\n",
            "Loss is: 0.006923.\n",
            "[W pthreadpool-cpp.cc:90] Warning: Leaking Caffe2 thread-pool after fork. (function pthreadpool)\n",
            "[W pthreadpool-cpp.cc:90] Warning: Leaking Caffe2 thread-pool after fork. (function pthreadpool)\n",
            "[W pthreadpool-cpp.cc:90] Warning: Leaking Caffe2 thread-pool after fork. (function pthreadpool)\n",
            "[W pthreadpool-cpp.cc:90] Warning: Leaking Caffe2 thread-pool after fork. (function pthreadpool)\n",
            "test performance at epoch 22 is precision: 0.630807, recall: 0.428571, fscore: 0.510386, macro-fscore: 0.044872, right: 258, predict: 409, standard: 602.\n",
            "Loss is: 0.006923.\n",
            "Epoch 22 cost time: 34 second\n",
            "[W pthreadpool-cpp.cc:90] Warning: Leaking Caffe2 thread-pool after fork. (function pthreadpool)\n",
            "[W pthreadpool-cpp.cc:90] Warning: Leaking Caffe2 thread-pool after fork. (function pthreadpool)\n",
            "[W pthreadpool-cpp.cc:90] Warning: Leaking Caffe2 thread-pool after fork. (function pthreadpool)\n",
            "[W pthreadpool-cpp.cc:90] Warning: Leaking Caffe2 thread-pool after fork. (function pthreadpool)\n",
            "[W pthreadpool-cpp.cc:90] Warning: Leaking Caffe2 thread-pool after fork. (function pthreadpool)\n",
            "[W pthreadpool-cpp.cc:90] Warning: Leaking Caffe2 thread-pool after fork. (function pthreadpool)\n",
            "[W pthreadpool-cpp.cc:90] Warning: Leaking Caffe2 thread-pool after fork. (function pthreadpool)\n",
            "[W pthreadpool-cpp.cc:90] Warning: Leaking Caffe2 thread-pool after fork. (function pthreadpool)\n",
            "Train performance at epoch 23 is precision: 0.731451, recall: 0.877661, fscore: 0.797914, macro-fscore: 0.705633, right: 4742, predict: 6483, standard: 5403.\n",
            "Loss is: 0.005210.\n",
            "[W pthreadpool-cpp.cc:90] Warning: Leaking Caffe2 thread-pool after fork. (function pthreadpool)\n",
            "[W pthreadpool-cpp.cc:90] Warning: Leaking Caffe2 thread-pool after fork. (function pthreadpool)\n",
            "[W pthreadpool-cpp.cc:90] Warning: Leaking Caffe2 thread-pool after fork. (function pthreadpool)\n",
            "[W pthreadpool-cpp.cc:90] Warning: Leaking Caffe2 thread-pool after fork. (function pthreadpool)\n",
            "Validate performance at epoch 23 is precision: 0.415066, recall: 0.466777, fscore: 0.439406, macro-fscore: 0.049472, right: 281, predict: 677, standard: 602.\n",
            "Loss is: 0.009541.\n",
            "[W pthreadpool-cpp.cc:90] Warning: Leaking Caffe2 thread-pool after fork. (function pthreadpool)\n",
            "[W pthreadpool-cpp.cc:90] Warning: Leaking Caffe2 thread-pool after fork. (function pthreadpool)\n",
            "[W pthreadpool-cpp.cc:90] Warning: Leaking Caffe2 thread-pool after fork. (function pthreadpool)\n",
            "[W pthreadpool-cpp.cc:90] Warning: Leaking Caffe2 thread-pool after fork. (function pthreadpool)\n",
            "test performance at epoch 23 is precision: 0.415066, recall: 0.466777, fscore: 0.439406, macro-fscore: 0.049472, right: 281, predict: 677, standard: 602.\n",
            "Loss is: 0.009541.\n",
            "Epoch 23 cost time: 34 second\n",
            "[W pthreadpool-cpp.cc:90] Warning: Leaking Caffe2 thread-pool after fork. (function pthreadpool)\n",
            "[W pthreadpool-cpp.cc:90] Warning: Leaking Caffe2 thread-pool after fork. (function pthreadpool)\n",
            "[W pthreadpool-cpp.cc:90] Warning: Leaking Caffe2 thread-pool after fork. (function pthreadpool)\n",
            "[W pthreadpool-cpp.cc:90] Warning: Leaking Caffe2 thread-pool after fork. (function pthreadpool)\n",
            "[W pthreadpool-cpp.cc:90] Warning: Leaking Caffe2 thread-pool after fork. (function pthreadpool)\n",
            "[W pthreadpool-cpp.cc:90] Warning: Leaking Caffe2 thread-pool after fork. (function pthreadpool)\n",
            "[W pthreadpool-cpp.cc:90] Warning: Leaking Caffe2 thread-pool after fork. (function pthreadpool)\n",
            "[W pthreadpool-cpp.cc:90] Warning: Leaking Caffe2 thread-pool after fork. (function pthreadpool)\n",
            "Train performance at epoch 24 is precision: 0.869862, recall: 0.849898, fscore: 0.859764, macro-fscore: 0.695530, right: 4592, predict: 5279, standard: 5403.\n",
            "Loss is: 0.003308.\n",
            "[W pthreadpool-cpp.cc:90] Warning: Leaking Caffe2 thread-pool after fork. (function pthreadpool)\n",
            "[W pthreadpool-cpp.cc:90] Warning: Leaking Caffe2 thread-pool after fork. (function pthreadpool)\n",
            "[W pthreadpool-cpp.cc:90] Warning: Leaking Caffe2 thread-pool after fork. (function pthreadpool)\n",
            "[W pthreadpool-cpp.cc:90] Warning: Leaking Caffe2 thread-pool after fork. (function pthreadpool)\n",
            "Validate performance at epoch 24 is precision: 0.607306, recall: 0.441860, fscore: 0.511538, macro-fscore: 0.047610, right: 266, predict: 438, standard: 602.\n",
            "Loss is: 0.006488.\n",
            "[W pthreadpool-cpp.cc:90] Warning: Leaking Caffe2 thread-pool after fork. (function pthreadpool)\n",
            "[W pthreadpool-cpp.cc:90] Warning: Leaking Caffe2 thread-pool after fork. (function pthreadpool)\n",
            "[W pthreadpool-cpp.cc:90] Warning: Leaking Caffe2 thread-pool after fork. (function pthreadpool)\n",
            "[W pthreadpool-cpp.cc:90] Warning: Leaking Caffe2 thread-pool after fork. (function pthreadpool)\n",
            "test performance at epoch 24 is precision: 0.607306, recall: 0.441860, fscore: 0.511538, macro-fscore: 0.047610, right: 266, predict: 438, standard: 602.\n",
            "Loss is: 0.006488.\n",
            "Epoch 24 cost time: 32 second\n",
            "[W pthreadpool-cpp.cc:90] Warning: Leaking Caffe2 thread-pool after fork. (function pthreadpool)\n",
            "[W pthreadpool-cpp.cc:90] Warning: Leaking Caffe2 thread-pool after fork. (function pthreadpool)\n",
            "[W pthreadpool-cpp.cc:90] Warning: Leaking Caffe2 thread-pool after fork. (function pthreadpool)\n",
            "[W pthreadpool-cpp.cc:90] Warning: Leaking Caffe2 thread-pool after fork. (function pthreadpool)\n",
            "[W pthreadpool-cpp.cc:90] Warning: Leaking Caffe2 thread-pool after fork. (function pthreadpool)\n",
            "[W pthreadpool-cpp.cc:90] Warning: Leaking Caffe2 thread-pool after fork. (function pthreadpool)\n",
            "[W pthreadpool-cpp.cc:90] Warning: Leaking Caffe2 thread-pool after fork. (function pthreadpool)\n",
            "[W pthreadpool-cpp.cc:90] Warning: Leaking Caffe2 thread-pool after fork. (function pthreadpool)\n",
            "Train performance at epoch 25 is precision: 0.830596, recall: 0.889321, fscore: 0.858956, macro-fscore: 0.751426, right: 4805, predict: 5785, standard: 5403.\n",
            "Loss is: 0.003939.\n",
            "[W pthreadpool-cpp.cc:90] Warning: Leaking Caffe2 thread-pool after fork. (function pthreadpool)\n",
            "[W pthreadpool-cpp.cc:90] Warning: Leaking Caffe2 thread-pool after fork. (function pthreadpool)\n",
            "[W pthreadpool-cpp.cc:90] Warning: Leaking Caffe2 thread-pool after fork. (function pthreadpool)\n",
            "[W pthreadpool-cpp.cc:90] Warning: Leaking Caffe2 thread-pool after fork. (function pthreadpool)\n",
            "Validate performance at epoch 25 is precision: 0.505576, recall: 0.451827, fscore: 0.477193, macro-fscore: 0.047105, right: 272, predict: 538, standard: 602.\n",
            "Loss is: 0.007875.\n",
            "[W pthreadpool-cpp.cc:90] Warning: Leaking Caffe2 thread-pool after fork. (function pthreadpool)\n",
            "[W pthreadpool-cpp.cc:90] Warning: Leaking Caffe2 thread-pool after fork. (function pthreadpool)\n",
            "[W pthreadpool-cpp.cc:90] Warning: Leaking Caffe2 thread-pool after fork. (function pthreadpool)\n",
            "[W pthreadpool-cpp.cc:90] Warning: Leaking Caffe2 thread-pool after fork. (function pthreadpool)\n",
            "test performance at epoch 25 is precision: 0.505576, recall: 0.451827, fscore: 0.477193, macro-fscore: 0.047105, right: 272, predict: 538, standard: 602.\n",
            "Loss is: 0.007875.\n",
            "Epoch 25 cost time: 34 second\n",
            "[W pthreadpool-cpp.cc:90] Warning: Leaking Caffe2 thread-pool after fork. (function pthreadpool)\n",
            "[W pthreadpool-cpp.cc:90] Warning: Leaking Caffe2 thread-pool after fork. (function pthreadpool)\n",
            "[W pthreadpool-cpp.cc:90] Warning: Leaking Caffe2 thread-pool after fork. (function pthreadpool)\n",
            "[W pthreadpool-cpp.cc:90] Warning: Leaking Caffe2 thread-pool after fork. (function pthreadpool)\n",
            "Best test performance at epoch 24 is precision: 0.607306, recall: 0.441860, fscore: 0.511538, macro-fscore: 0.047610, right: 266, predict: 438, standard: 602.\n",
            "Loss is: 0.006488.\n"
          ],
          "name": "stdout"
        }
      ]
    },
    {
      "cell_type": "markdown",
      "metadata": {
        "id": "4KA9diYCA2VX"
      },
      "source": [
        "# Evaluate"
      ]
    },
    {
      "cell_type": "code",
      "metadata": {
        "colab": {
          "base_uri": "https://localhost:8080/"
        },
        "id": "WcVHxtfIA15w",
        "outputId": "95a5b081-9d47-467f-b556-f52b658456af"
      },
      "source": [
        "!python eval.py conf/custom.train.hierar.json"
      ],
      "execution_count": 215,
      "outputs": [
        {
          "output_type": "stream",
          "text": [
            "/usr/local/lib/python3.7/dist-packages/torch/utils/data/dataloader.py:481: UserWarning: This DataLoader will create 4 worker processes in total. Our suggested max number of worker in current system is 2, which is smaller than what this DataLoader is going to create. Please be aware that excessive worker creation might get DataLoader running slow or even freeze, lower the worker number to avoid potential slowness/freeze if necessary.\n",
            "  cpuset_checked))\n",
            "Performance is precision: 0.607306, recall: 0.441860, fscore: 0.511538, right: 266, predict: 438, standard: 602.\n"
          ],
          "name": "stdout"
        }
      ]
    },
    {
      "cell_type": "markdown",
      "metadata": {
        "id": "3iKAs1Vs-R7r"
      },
      "source": [
        "# Predict"
      ]
    },
    {
      "cell_type": "code",
      "metadata": {
        "id": "7EO018mB5Ys_"
      },
      "source": [
        "! python predict.py conf/custom.train.hierar.json data/custom_test.hierar.json"
      ],
      "execution_count": 180,
      "outputs": []
    },
    {
      "cell_type": "code",
      "metadata": {
        "id": "wSndWanfA1J8"
      },
      "source": [
        ""
      ],
      "execution_count": null,
      "outputs": []
    },
    {
      "cell_type": "markdown",
      "metadata": {
        "id": "922Nwqsa-tXd"
      },
      "source": [
        "# Inspect Inference"
      ]
    },
    {
      "cell_type": "code",
      "metadata": {
        "id": "2rmVkZvL_pZZ"
      },
      "source": [
        "from pprint import pprint"
      ],
      "execution_count": 189,
      "outputs": []
    },
    {
      "cell_type": "code",
      "metadata": {
        "id": "MG2qgmnrAEbh"
      },
      "source": [
        "import os"
      ],
      "execution_count": 203,
      "outputs": []
    },
    {
      "cell_type": "code",
      "metadata": {
        "id": "FAgONudP9vBL"
      },
      "source": [
        "def inspect_inference(df: pd.DataFrame, predsfile: str, index=0) -> None:\n",
        "    predictions = []\n",
        "    if isinstance(predsfile, str) and os.path.exists(predsfile):\n",
        "        with open(predsfile) as f:\n",
        "            predictions = f.readlines()\n",
        "    df = df.copy()\n",
        "    pred = predictions[index]\n",
        "    _df = df.iloc[index]\n",
        "    print(f\"Text ==> {_df.desc[:150]}\")\n",
        "    print(f\"GT ==> {_df.keywords}\")\n",
        "    print(f\"Predictions ==> {pred}\")\n",
        "    print(\"-\"*25)"
      ],
      "execution_count": 209,
      "outputs": []
    },
    {
      "cell_type": "code",
      "metadata": {
        "colab": {
          "base_uri": "https://localhost:8080/"
        },
        "id": "KOc1IcG2_CCE",
        "outputId": "71c92ab0-8131-4043-a833-61ee2d764d38"
      },
      "source": [
        "inspect_inference(\n",
        "    DATA_TEST,\n",
        "    \"/content/NeuralNLP-NeuralClassifier/predict.txt\",\n",
        "    index = 15\n",
        ")"
      ],
      "execution_count": 214,
      "outputs": [
        {
          "output_type": "stream",
          "text": [
            "Text ==> CalSub product files are constructed from calibrated radiance files (infrared and microwave) from either the SNPP, Aqua or MetOP-A/B. Nominally one lo\n",
            "GT ==> EARTH SCIENCE SERVICES > DATA ANALYSIS AND VISUALIZATION > CALIBRATION/VALIDATION,EARTH SCIENCE > ATMOSPHERE > ATMOSPHERIC RADIATION > RADIATIVE FLUX,EARTH SCIENCE > SPECTRAL/ENGINEERING > INFRARED WAVELENGTHS > BRIGHTNESS TEMPERATURE\n",
            "Predictions ==> EARTH_SCIENCE_SERVICES--DATA_ANALYSIS_AND_VISUALIZATION--CALIBRATION/VALIDATION,EARTH_SCIENCE--ATMOSPHERE--ATMOSPHERIC_RADIATION--RADIATIVE_FLUX,EARTH_SCIENCE--SPECTRAL/ENGINEERING--INFRARED_WAVELENGTHS--BRIGHTNESS_TEMPERATURE\n",
            "\n",
            "-------------------------\n"
          ],
          "name": "stdout"
        }
      ]
    },
    {
      "cell_type": "markdown",
      "metadata": {
        "id": "UfyWLNW6BIa5"
      },
      "source": [
        "# Custom Evaluate\n",
        "\n",
        "We try to evaluate the predictions with the ground truth at different **level** in the hierarcy.\n",
        "\n",
        "## Observation\n",
        "\n",
        "The performance drops as we go down the hierarchy"
      ]
    },
    {
      "cell_type": "code",
      "metadata": {
        "id": "Jq0uDgx8Haqe"
      },
      "source": [
        ""
      ],
      "execution_count": null,
      "outputs": []
    },
    {
      "cell_type": "code",
      "metadata": {
        "id": "vqRoMOSsFdVC"
      },
      "source": [
        "from typing import Tuple"
      ],
      "execution_count": 250,
      "outputs": []
    },
    {
      "cell_type": "code",
      "metadata": {
        "colab": {
          "base_uri": "https://localhost:8080/"
        },
        "id": "GR16zOXFBRTz",
        "outputId": "dc71a9d5-1ec2-46df-ef8d-b4e54c6cb269"
      },
      "source": [
        "def compute_jaccard(tokens1: List[str], tokens2: List[str]) -> float:\n",
        "    if not tokens1 or not tokens2:\n",
        "        return 0.0\n",
        "    tokens1 = set(tokens1)\n",
        "    tokens2 = set(tokens2)\n",
        "    return len(tokens1.intersection(tokens2)) / len(tokens1.union(tokens2))\n",
        "\n",
        "compute_jaccard([\"a\", \"b\"], [\"b\", \"c\"])"
      ],
      "execution_count": 251,
      "outputs": [
        {
          "output_type": "execute_result",
          "data": {
            "text/plain": [
              "0.3333333333333333"
            ]
          },
          "metadata": {
            "tags": []
          },
          "execution_count": 251
        }
      ]
    },
    {
      "cell_type": "code",
      "metadata": {
        "id": "RTOIuj_b_HyJ"
      },
      "source": [
        "def get_keywords(df: pd.DataFrame, predsfile: str, index=0) -> Tuple[list, list]:\n",
        "    predictions = []\n",
        "    if isinstance(predsfile, str) and os.path.exists(predsfile):\n",
        "        with open(predsfile) as f:\n",
        "            predictions = f.readlines()\n",
        "    \n",
        "    predictions = map(lambda kw: process_keywords_str(kw, label_sep=\";\", hierar_sep=\"--\"), predictions)\n",
        "    predictions = list(predictions)\n",
        "    df = df.copy()\n",
        "    df[\"gt\"] = df[\"keywords\"].apply(process_keywords_str)\n",
        "\n",
        "    def _prep_gt(gts) -> List[List[str]]:\n",
        "        res = map(lambda gt: [\"_\".join(x.split()) for x in gt], gts)\n",
        "        return list(res)\n",
        "\n",
        "    df[\"gt\"] = df[\"gt\"].apply(_prep_gt)\n",
        "\n",
        "    return df[\"gt\"].tolist(), predictions"
      ],
      "execution_count": 252,
      "outputs": []
    },
    {
      "cell_type": "code",
      "metadata": {
        "id": "fWkZjZGNBroG"
      },
      "source": [
        "GTs, PREDICTIONS = get_keywords(DATA_TEST, \"/content/NeuralNLP-NeuralClassifier/predict.txt\")"
      ],
      "execution_count": 253,
      "outputs": []
    },
    {
      "cell_type": "code",
      "metadata": {
        "colab": {
          "base_uri": "https://localhost:8080/"
        },
        "id": "ip89kaWZB1ps",
        "outputId": "0287a7b1-6174-4862-8f6a-4c9155d279de"
      },
      "source": [
        "GTs[0], PREDICTIONS[0]"
      ],
      "execution_count": 254,
      "outputs": [
        {
          "output_type": "execute_result",
          "data": {
            "text/plain": [
              "([['EARTH_SCIENCE',\n",
              "   'ATMOSPHERE',\n",
              "   'PRECIPITATION',\n",
              "   'PRECIPITATION_AMOUNT',\n",
              "   'HOURLY_PRECIPITATION_AMOUNT']],\n",
              " [['EARTH_SCIENCE',\n",
              "   'SPECTRAL/ENGINEERING',\n",
              "   'MICROWAVE',\n",
              "   'BRIGHTNESS_TEMPERATURE'],\n",
              "  ['EARTH_SCIENCE', 'LAND_SURFACE', 'SOILS', 'SOIL_MOISTURE/WATER_CONTENT']])"
            ]
          },
          "metadata": {
            "tags": []
          },
          "execution_count": 254
        }
      ]
    },
    {
      "cell_type": "code",
      "metadata": {
        "id": "sH2wFG7fFNnE"
      },
      "source": [
        "def evaluate_custom(gts, preds, level=0):\n",
        "    gts = list(map(lambda x: get_levels(x, level=level), gts))\n",
        "    preds = list(map(lambda x: get_levels(x, level=level), preds))\n",
        "    \n",
        "    metrics = map(lambda x: compute_jaccard(x[0], x[1]), zip(gts, preds))\n",
        "    metrics = list(metrics)\n",
        "    return metrics"
      ],
      "execution_count": 282,
      "outputs": []
    },
    {
      "cell_type": "code",
      "metadata": {
        "colab": {
          "base_uri": "https://localhost:8080/"
        },
        "id": "TQssyj1gFuBB",
        "outputId": "8986ef7b-4e35-4a17-f413-89f48349074a"
      },
      "source": [
        "for level in [0, 1, 2, 3, 4]:\n",
        "    metrics = evaluate_custom(GTs, PREDICTIONS, level=level)\n",
        "    avg = np.mean(metrics)\n",
        "    logger.debug(f\"[Level={level}] || {avg}\")"
      ],
      "execution_count": 286,
      "outputs": [
        {
          "output_type": "stream",
          "text": [
            "2021-07-30 11:11:44.999 | DEBUG    | __main__:<module>:4 - [Level=0] || 0.616111111111111\n",
            "2021-07-30 11:11:45.007 | DEBUG    | __main__:<module>:4 - [Level=1] || 0.4543849206349207\n",
            "2021-07-30 11:11:45.013 | DEBUG    | __main__:<module>:4 - [Level=2] || 0.32370591676841676\n",
            "2021-07-30 11:11:45.020 | DEBUG    | __main__:<module>:4 - [Level=3] || 0.19290151515151516\n",
            "2021-07-30 11:11:45.024 | DEBUG    | __main__:<module>:4 - [Level=4] || 0.18427083333333333\n"
          ],
          "name": "stderr"
        }
      ]
    }
  ]
}